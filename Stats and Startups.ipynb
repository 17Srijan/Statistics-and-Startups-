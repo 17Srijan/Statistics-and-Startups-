{
 "cells": [
  {
   "cell_type": "markdown",
   "id": "49272f9b-1ec5-40d3-9c07-011f3777427b",
   "metadata": {},
   "source": [
    "# Domain: Startup Ecosystem\n",
    "\n",
    "### Overview:\n",
    "\n",
    "Company X, a prominent Indian digital publisher focused on providing deep insights into the startup landscape, is committed to equipping its readers with practical and valuable knowledge. In the fast-paced and ever-evolving world of startups, the company understands the importance of identifying key financial factors that distinguish successful, ongoing startups from those that have shut down.\n",
    "\n",
    "### Objective:\n",
    "\n",
    "This project aims to explore and determine whether there is a statistically significant difference in the average amount of funds raised by startups that are still in operation compared to those that have closed. Additionally, it seeks to examine whether a significant difference exists in the number of funding rounds between startups that continue to operate and those that have ceased operations.\n",
    "\n",
    "*Note*:\n",
    "\n",
    "*- Dataset Credits --> https://www.kaggle.com/datasets/yanmaksi/big-startup-secsees-fail-dataset-from-crunchbase"
   ]
  },
  {
   "cell_type": "code",
   "execution_count": 1,
   "id": "ac46d26e",
   "metadata": {},
   "outputs": [],
   "source": [
    "\n",
    "import numpy as np\n",
    "import pandas as pd\n",
    "import matplotlib.pyplot as plt\n",
    "import seaborn as sns \n",
    "\n",
    "%matplotlib inline"
   ]
  },
  {
   "cell_type": "code",
   "execution_count": 2,
   "id": "3d22f359",
   "metadata": {},
   "outputs": [],
   "source": [
    "startup_df = pd.read_csv(\"D:/big_startup_secsees_dataset.csv\")"
   ]
  },
  {
   "cell_type": "code",
   "execution_count": 3,
   "id": "c1d38675",
   "metadata": {},
   "outputs": [
    {
     "data": {
      "text/html": [
       "<div>\n",
       "<style scoped>\n",
       "    .dataframe tbody tr th:only-of-type {\n",
       "        vertical-align: middle;\n",
       "    }\n",
       "\n",
       "    .dataframe tbody tr th {\n",
       "        vertical-align: top;\n",
       "    }\n",
       "\n",
       "    .dataframe thead th {\n",
       "        text-align: right;\n",
       "    }\n",
       "</style>\n",
       "<table border=\"1\" class=\"dataframe\">\n",
       "  <thead>\n",
       "    <tr style=\"text-align: right;\">\n",
       "      <th></th>\n",
       "      <th>permalink</th>\n",
       "      <th>name</th>\n",
       "      <th>homepage_url</th>\n",
       "      <th>category_list</th>\n",
       "      <th>funding_total_usd</th>\n",
       "      <th>status</th>\n",
       "      <th>country_code</th>\n",
       "      <th>state_code</th>\n",
       "      <th>region</th>\n",
       "      <th>city</th>\n",
       "      <th>funding_rounds</th>\n",
       "      <th>founded_at</th>\n",
       "      <th>first_funding_at</th>\n",
       "      <th>last_funding_at</th>\n",
       "    </tr>\n",
       "  </thead>\n",
       "  <tbody>\n",
       "    <tr>\n",
       "      <th>0</th>\n",
       "      <td>/organization/-fame</td>\n",
       "      <td>#fame</td>\n",
       "      <td>http://livfame.com</td>\n",
       "      <td>Media</td>\n",
       "      <td>10000000</td>\n",
       "      <td>operating</td>\n",
       "      <td>IND</td>\n",
       "      <td>16</td>\n",
       "      <td>Mumbai</td>\n",
       "      <td>Mumbai</td>\n",
       "      <td>1</td>\n",
       "      <td>NaN</td>\n",
       "      <td>2015-01-05</td>\n",
       "      <td>2015-01-05</td>\n",
       "    </tr>\n",
       "    <tr>\n",
       "      <th>1</th>\n",
       "      <td>/organization/-qounter</td>\n",
       "      <td>:Qounter</td>\n",
       "      <td>http://www.qounter.com</td>\n",
       "      <td>Application Platforms|Real Time|Social Network...</td>\n",
       "      <td>700000</td>\n",
       "      <td>operating</td>\n",
       "      <td>USA</td>\n",
       "      <td>DE</td>\n",
       "      <td>DE - Other</td>\n",
       "      <td>Delaware City</td>\n",
       "      <td>2</td>\n",
       "      <td>2014-09-04</td>\n",
       "      <td>2014-03-01</td>\n",
       "      <td>2014-10-14</td>\n",
       "    </tr>\n",
       "    <tr>\n",
       "      <th>2</th>\n",
       "      <td>/organization/-the-one-of-them-inc-</td>\n",
       "      <td>(THE) ONE of THEM,Inc.</td>\n",
       "      <td>http://oneofthem.jp</td>\n",
       "      <td>Apps|Games|Mobile</td>\n",
       "      <td>3406878</td>\n",
       "      <td>operating</td>\n",
       "      <td>NaN</td>\n",
       "      <td>NaN</td>\n",
       "      <td>NaN</td>\n",
       "      <td>NaN</td>\n",
       "      <td>1</td>\n",
       "      <td>NaN</td>\n",
       "      <td>2014-01-30</td>\n",
       "      <td>2014-01-30</td>\n",
       "    </tr>\n",
       "    <tr>\n",
       "      <th>3</th>\n",
       "      <td>/organization/0-6-com</td>\n",
       "      <td>0-6.com</td>\n",
       "      <td>http://www.0-6.com</td>\n",
       "      <td>Curated Web</td>\n",
       "      <td>2000000</td>\n",
       "      <td>operating</td>\n",
       "      <td>CHN</td>\n",
       "      <td>22</td>\n",
       "      <td>Beijing</td>\n",
       "      <td>Beijing</td>\n",
       "      <td>1</td>\n",
       "      <td>2007-01-01</td>\n",
       "      <td>2008-03-19</td>\n",
       "      <td>2008-03-19</td>\n",
       "    </tr>\n",
       "    <tr>\n",
       "      <th>4</th>\n",
       "      <td>/organization/004-technologies</td>\n",
       "      <td>004 Technologies</td>\n",
       "      <td>http://004gmbh.de/en/004-interact</td>\n",
       "      <td>Software</td>\n",
       "      <td>-</td>\n",
       "      <td>operating</td>\n",
       "      <td>USA</td>\n",
       "      <td>IL</td>\n",
       "      <td>Springfield, Illinois</td>\n",
       "      <td>Champaign</td>\n",
       "      <td>1</td>\n",
       "      <td>2010-01-01</td>\n",
       "      <td>2014-07-24</td>\n",
       "      <td>2014-07-24</td>\n",
       "    </tr>\n",
       "  </tbody>\n",
       "</table>\n",
       "</div>"
      ],
      "text/plain": [
       "                             permalink                    name  \\\n",
       "0                  /organization/-fame                   #fame   \n",
       "1               /organization/-qounter                :Qounter   \n",
       "2  /organization/-the-one-of-them-inc-  (THE) ONE of THEM,Inc.   \n",
       "3                /organization/0-6-com                 0-6.com   \n",
       "4       /organization/004-technologies        004 Technologies   \n",
       "\n",
       "                        homepage_url  \\\n",
       "0                 http://livfame.com   \n",
       "1             http://www.qounter.com   \n",
       "2                http://oneofthem.jp   \n",
       "3                 http://www.0-6.com   \n",
       "4  http://004gmbh.de/en/004-interact   \n",
       "\n",
       "                                       category_list funding_total_usd  \\\n",
       "0                                              Media          10000000   \n",
       "1  Application Platforms|Real Time|Social Network...            700000   \n",
       "2                                  Apps|Games|Mobile           3406878   \n",
       "3                                        Curated Web           2000000   \n",
       "4                                           Software                 -   \n",
       "\n",
       "      status country_code state_code                 region           city  \\\n",
       "0  operating          IND         16                 Mumbai         Mumbai   \n",
       "1  operating          USA         DE             DE - Other  Delaware City   \n",
       "2  operating          NaN        NaN                    NaN            NaN   \n",
       "3  operating          CHN         22                Beijing        Beijing   \n",
       "4  operating          USA         IL  Springfield, Illinois      Champaign   \n",
       "\n",
       "   funding_rounds  founded_at first_funding_at last_funding_at  \n",
       "0               1         NaN       2015-01-05      2015-01-05  \n",
       "1               2  2014-09-04       2014-03-01      2014-10-14  \n",
       "2               1         NaN       2014-01-30      2014-01-30  \n",
       "3               1  2007-01-01       2008-03-19      2008-03-19  \n",
       "4               1  2010-01-01       2014-07-24      2014-07-24  "
      ]
     },
     "execution_count": 3,
     "metadata": {},
     "output_type": "execute_result"
    }
   ],
   "source": [
    "startup_df.head()"
   ]
  },
  {
   "cell_type": "code",
   "execution_count": 4,
   "id": "6cd7743d",
   "metadata": {},
   "outputs": [],
   "source": [
    "filtered_df = startup_df[startup_df['country_code'] == 'IND']"
   ]
  },
  {
   "cell_type": "code",
   "execution_count": 5,
   "id": "4271380c",
   "metadata": {},
   "outputs": [
    {
     "data": {
      "text/html": [
       "<div>\n",
       "<style scoped>\n",
       "    .dataframe tbody tr th:only-of-type {\n",
       "        vertical-align: middle;\n",
       "    }\n",
       "\n",
       "    .dataframe tbody tr th {\n",
       "        vertical-align: top;\n",
       "    }\n",
       "\n",
       "    .dataframe thead th {\n",
       "        text-align: right;\n",
       "    }\n",
       "</style>\n",
       "<table border=\"1\" class=\"dataframe\">\n",
       "  <thead>\n",
       "    <tr style=\"text-align: right;\">\n",
       "      <th></th>\n",
       "      <th>permalink</th>\n",
       "      <th>name</th>\n",
       "      <th>homepage_url</th>\n",
       "      <th>category_list</th>\n",
       "      <th>funding_total_usd</th>\n",
       "      <th>status</th>\n",
       "      <th>country_code</th>\n",
       "      <th>state_code</th>\n",
       "      <th>region</th>\n",
       "      <th>city</th>\n",
       "      <th>funding_rounds</th>\n",
       "      <th>founded_at</th>\n",
       "      <th>first_funding_at</th>\n",
       "      <th>last_funding_at</th>\n",
       "    </tr>\n",
       "  </thead>\n",
       "  <tbody>\n",
       "    <tr>\n",
       "      <th>66240</th>\n",
       "      <td>/organization/zoutons</td>\n",
       "      <td>Zoutons</td>\n",
       "      <td>http://zoutons.com</td>\n",
       "      <td>E-Commerce|Online Shopping|Sales and Marketing</td>\n",
       "      <td>3300000</td>\n",
       "      <td>operating</td>\n",
       "      <td>IND</td>\n",
       "      <td>7</td>\n",
       "      <td>New Delhi</td>\n",
       "      <td>New Delhi</td>\n",
       "      <td>1</td>\n",
       "      <td>2013-01-01</td>\n",
       "      <td>2013-09-06</td>\n",
       "      <td>2013-09-06</td>\n",
       "    </tr>\n",
       "    <tr>\n",
       "      <th>66284</th>\n",
       "      <td>/organization/zumbl</td>\n",
       "      <td>Zumbl</td>\n",
       "      <td>http://zumbl.com</td>\n",
       "      <td>Chat|Entertainment|Interest Graph|Messaging</td>\n",
       "      <td>140000</td>\n",
       "      <td>operating</td>\n",
       "      <td>IND</td>\n",
       "      <td>10</td>\n",
       "      <td>New Delhi</td>\n",
       "      <td>Gurgaon</td>\n",
       "      <td>3</td>\n",
       "      <td>2012-11-01</td>\n",
       "      <td>2013-04-03</td>\n",
       "      <td>2014-04-05</td>\n",
       "    </tr>\n",
       "    <tr>\n",
       "      <th>66301</th>\n",
       "      <td>/organization/zupermeal</td>\n",
       "      <td>ZuperMeal</td>\n",
       "      <td>http://www.zupermeal.com</td>\n",
       "      <td>Food Processing</td>\n",
       "      <td>2000000</td>\n",
       "      <td>operating</td>\n",
       "      <td>IND</td>\n",
       "      <td>16</td>\n",
       "      <td>IND - Other</td>\n",
       "      <td>Andheri</td>\n",
       "      <td>1</td>\n",
       "      <td>NaN</td>\n",
       "      <td>2015-10-08</td>\n",
       "      <td>2015-10-08</td>\n",
       "    </tr>\n",
       "    <tr>\n",
       "      <th>66318</th>\n",
       "      <td>/organization/zuvvu</td>\n",
       "      <td>Zuvvu</td>\n",
       "      <td>http://zuvvu.com</td>\n",
       "      <td>Advertising|Social Media Advertising|Social Me...</td>\n",
       "      <td>12000</td>\n",
       "      <td>closed</td>\n",
       "      <td>IND</td>\n",
       "      <td>9</td>\n",
       "      <td>Ahmedabad</td>\n",
       "      <td>Ahmadabad</td>\n",
       "      <td>1</td>\n",
       "      <td>2010-06-01</td>\n",
       "      <td>2011-11-01</td>\n",
       "      <td>2011-11-01</td>\n",
       "    </tr>\n",
       "    <tr>\n",
       "      <th>66351</th>\n",
       "      <td>/organization/zynergy-projects-services</td>\n",
       "      <td>Zynergy Projects &amp; Services</td>\n",
       "      <td>http://www.zynergygroup.net/</td>\n",
       "      <td>Clean Technology</td>\n",
       "      <td>-</td>\n",
       "      <td>operating</td>\n",
       "      <td>IND</td>\n",
       "      <td>25</td>\n",
       "      <td>Chennai</td>\n",
       "      <td>Chennai</td>\n",
       "      <td>1</td>\n",
       "      <td>NaN</td>\n",
       "      <td>2015-08-19</td>\n",
       "      <td>2015-08-19</td>\n",
       "    </tr>\n",
       "  </tbody>\n",
       "</table>\n",
       "</div>"
      ],
      "text/plain": [
       "                                     permalink                         name  \\\n",
       "66240                    /organization/zoutons                      Zoutons   \n",
       "66284                      /organization/zumbl                        Zumbl   \n",
       "66301                  /organization/zupermeal                    ZuperMeal   \n",
       "66318                      /organization/zuvvu                        Zuvvu   \n",
       "66351  /organization/zynergy-projects-services  Zynergy Projects & Services   \n",
       "\n",
       "                       homepage_url  \\\n",
       "66240            http://zoutons.com   \n",
       "66284              http://zumbl.com   \n",
       "66301      http://www.zupermeal.com   \n",
       "66318              http://zuvvu.com   \n",
       "66351  http://www.zynergygroup.net/   \n",
       "\n",
       "                                           category_list funding_total_usd  \\\n",
       "66240     E-Commerce|Online Shopping|Sales and Marketing           3300000   \n",
       "66284        Chat|Entertainment|Interest Graph|Messaging            140000   \n",
       "66301                                    Food Processing           2000000   \n",
       "66318  Advertising|Social Media Advertising|Social Me...             12000   \n",
       "66351                                   Clean Technology                 -   \n",
       "\n",
       "          status country_code state_code       region       city  \\\n",
       "66240  operating          IND          7    New Delhi  New Delhi   \n",
       "66284  operating          IND         10    New Delhi    Gurgaon   \n",
       "66301  operating          IND         16  IND - Other    Andheri   \n",
       "66318     closed          IND          9    Ahmedabad  Ahmadabad   \n",
       "66351  operating          IND         25      Chennai    Chennai   \n",
       "\n",
       "       funding_rounds  founded_at first_funding_at last_funding_at  \n",
       "66240               1  2013-01-01       2013-09-06      2013-09-06  \n",
       "66284               3  2012-11-01       2013-04-03      2014-04-05  \n",
       "66301               1         NaN       2015-10-08      2015-10-08  \n",
       "66318               1  2010-06-01       2011-11-01      2011-11-01  \n",
       "66351               1         NaN       2015-08-19      2015-08-19  "
      ]
     },
     "execution_count": 5,
     "metadata": {},
     "output_type": "execute_result"
    }
   ],
   "source": [
    "filtered_df.tail()"
   ]
  },
  {
   "cell_type": "code",
   "execution_count": 6,
   "id": "71373e0b",
   "metadata": {},
   "outputs": [],
   "source": [
    "filtered_df = startup_df[\n",
    "    (startup_df['country_code'] == 'IND') & \n",
    "    (startup_df['status'].isin(['operating', 'closed']))\n",
    "]"
   ]
  },
  {
   "cell_type": "code",
   "execution_count": 7,
   "id": "da859dee",
   "metadata": {},
   "outputs": [
    {
     "data": {
      "text/html": [
       "<div>\n",
       "<style scoped>\n",
       "    .dataframe tbody tr th:only-of-type {\n",
       "        vertical-align: middle;\n",
       "    }\n",
       "\n",
       "    .dataframe tbody tr th {\n",
       "        vertical-align: top;\n",
       "    }\n",
       "\n",
       "    .dataframe thead th {\n",
       "        text-align: right;\n",
       "    }\n",
       "</style>\n",
       "<table border=\"1\" class=\"dataframe\">\n",
       "  <thead>\n",
       "    <tr style=\"text-align: right;\">\n",
       "      <th></th>\n",
       "      <th>permalink</th>\n",
       "      <th>name</th>\n",
       "      <th>homepage_url</th>\n",
       "      <th>category_list</th>\n",
       "      <th>funding_total_usd</th>\n",
       "      <th>status</th>\n",
       "      <th>country_code</th>\n",
       "      <th>state_code</th>\n",
       "      <th>region</th>\n",
       "      <th>city</th>\n",
       "      <th>funding_rounds</th>\n",
       "      <th>founded_at</th>\n",
       "      <th>first_funding_at</th>\n",
       "      <th>last_funding_at</th>\n",
       "    </tr>\n",
       "  </thead>\n",
       "  <tbody>\n",
       "    <tr>\n",
       "      <th>0</th>\n",
       "      <td>/organization/-fame</td>\n",
       "      <td>#fame</td>\n",
       "      <td>http://livfame.com</td>\n",
       "      <td>Media</td>\n",
       "      <td>10000000</td>\n",
       "      <td>operating</td>\n",
       "      <td>IND</td>\n",
       "      <td>16</td>\n",
       "      <td>Mumbai</td>\n",
       "      <td>Mumbai</td>\n",
       "      <td>1</td>\n",
       "      <td>NaN</td>\n",
       "      <td>2015-01-05</td>\n",
       "      <td>2015-01-05</td>\n",
       "    </tr>\n",
       "    <tr>\n",
       "      <th>22</th>\n",
       "      <td>/organization/1000lookz</td>\n",
       "      <td>1000Lookz</td>\n",
       "      <td>http://1000lookz.com</td>\n",
       "      <td>Beauty</td>\n",
       "      <td>-</td>\n",
       "      <td>operating</td>\n",
       "      <td>IND</td>\n",
       "      <td>25</td>\n",
       "      <td>Chennai</td>\n",
       "      <td>Chennai</td>\n",
       "      <td>1</td>\n",
       "      <td>2008-01-01</td>\n",
       "      <td>2013-07-22</td>\n",
       "      <td>2013-07-22</td>\n",
       "    </tr>\n",
       "    <tr>\n",
       "      <th>135</th>\n",
       "      <td>/organization/21diamonds-india</td>\n",
       "      <td>21Diamonds</td>\n",
       "      <td>http://www.21diamonds.de</td>\n",
       "      <td>E-Commerce</td>\n",
       "      <td>6369507</td>\n",
       "      <td>operating</td>\n",
       "      <td>IND</td>\n",
       "      <td>10</td>\n",
       "      <td>New Delhi</td>\n",
       "      <td>Gurgaon</td>\n",
       "      <td>1</td>\n",
       "      <td>2012-06-01</td>\n",
       "      <td>2012-11-15</td>\n",
       "      <td>2012-11-15</td>\n",
       "    </tr>\n",
       "    <tr>\n",
       "      <th>151</th>\n",
       "      <td>/organization/247-learning-private</td>\n",
       "      <td>24x7 Learning</td>\n",
       "      <td>http://www.24x7learning.com</td>\n",
       "      <td>EdTech|Education|Systems</td>\n",
       "      <td>4000000</td>\n",
       "      <td>operating</td>\n",
       "      <td>IND</td>\n",
       "      <td>19</td>\n",
       "      <td>Bangalore</td>\n",
       "      <td>Bangalore</td>\n",
       "      <td>1</td>\n",
       "      <td>2001-01-01</td>\n",
       "      <td>2007-11-06</td>\n",
       "      <td>2007-11-06</td>\n",
       "    </tr>\n",
       "    <tr>\n",
       "      <th>219</th>\n",
       "      <td>/organization/33coupons</td>\n",
       "      <td>33Coupons</td>\n",
       "      <td>http://33coupons.in</td>\n",
       "      <td>Internet</td>\n",
       "      <td>20000</td>\n",
       "      <td>operating</td>\n",
       "      <td>IND</td>\n",
       "      <td>36</td>\n",
       "      <td>Kanpur</td>\n",
       "      <td>Kanpur</td>\n",
       "      <td>1</td>\n",
       "      <td>2015-05-01</td>\n",
       "      <td>2015-07-06</td>\n",
       "      <td>2015-07-06</td>\n",
       "    </tr>\n",
       "    <tr>\n",
       "      <th>...</th>\n",
       "      <td>...</td>\n",
       "      <td>...</td>\n",
       "      <td>...</td>\n",
       "      <td>...</td>\n",
       "      <td>...</td>\n",
       "      <td>...</td>\n",
       "      <td>...</td>\n",
       "      <td>...</td>\n",
       "      <td>...</td>\n",
       "      <td>...</td>\n",
       "      <td>...</td>\n",
       "      <td>...</td>\n",
       "      <td>...</td>\n",
       "      <td>...</td>\n",
       "    </tr>\n",
       "    <tr>\n",
       "      <th>66240</th>\n",
       "      <td>/organization/zoutons</td>\n",
       "      <td>Zoutons</td>\n",
       "      <td>http://zoutons.com</td>\n",
       "      <td>E-Commerce|Online Shopping|Sales and Marketing</td>\n",
       "      <td>3300000</td>\n",
       "      <td>operating</td>\n",
       "      <td>IND</td>\n",
       "      <td>7</td>\n",
       "      <td>New Delhi</td>\n",
       "      <td>New Delhi</td>\n",
       "      <td>1</td>\n",
       "      <td>2013-01-01</td>\n",
       "      <td>2013-09-06</td>\n",
       "      <td>2013-09-06</td>\n",
       "    </tr>\n",
       "    <tr>\n",
       "      <th>66284</th>\n",
       "      <td>/organization/zumbl</td>\n",
       "      <td>Zumbl</td>\n",
       "      <td>http://zumbl.com</td>\n",
       "      <td>Chat|Entertainment|Interest Graph|Messaging</td>\n",
       "      <td>140000</td>\n",
       "      <td>operating</td>\n",
       "      <td>IND</td>\n",
       "      <td>10</td>\n",
       "      <td>New Delhi</td>\n",
       "      <td>Gurgaon</td>\n",
       "      <td>3</td>\n",
       "      <td>2012-11-01</td>\n",
       "      <td>2013-04-03</td>\n",
       "      <td>2014-04-05</td>\n",
       "    </tr>\n",
       "    <tr>\n",
       "      <th>66301</th>\n",
       "      <td>/organization/zupermeal</td>\n",
       "      <td>ZuperMeal</td>\n",
       "      <td>http://www.zupermeal.com</td>\n",
       "      <td>Food Processing</td>\n",
       "      <td>2000000</td>\n",
       "      <td>operating</td>\n",
       "      <td>IND</td>\n",
       "      <td>16</td>\n",
       "      <td>IND - Other</td>\n",
       "      <td>Andheri</td>\n",
       "      <td>1</td>\n",
       "      <td>NaN</td>\n",
       "      <td>2015-10-08</td>\n",
       "      <td>2015-10-08</td>\n",
       "    </tr>\n",
       "    <tr>\n",
       "      <th>66318</th>\n",
       "      <td>/organization/zuvvu</td>\n",
       "      <td>Zuvvu</td>\n",
       "      <td>http://zuvvu.com</td>\n",
       "      <td>Advertising|Social Media Advertising|Social Me...</td>\n",
       "      <td>12000</td>\n",
       "      <td>closed</td>\n",
       "      <td>IND</td>\n",
       "      <td>9</td>\n",
       "      <td>Ahmedabad</td>\n",
       "      <td>Ahmadabad</td>\n",
       "      <td>1</td>\n",
       "      <td>2010-06-01</td>\n",
       "      <td>2011-11-01</td>\n",
       "      <td>2011-11-01</td>\n",
       "    </tr>\n",
       "    <tr>\n",
       "      <th>66351</th>\n",
       "      <td>/organization/zynergy-projects-services</td>\n",
       "      <td>Zynergy Projects &amp; Services</td>\n",
       "      <td>http://www.zynergygroup.net/</td>\n",
       "      <td>Clean Technology</td>\n",
       "      <td>-</td>\n",
       "      <td>operating</td>\n",
       "      <td>IND</td>\n",
       "      <td>25</td>\n",
       "      <td>Chennai</td>\n",
       "      <td>Chennai</td>\n",
       "      <td>1</td>\n",
       "      <td>NaN</td>\n",
       "      <td>2015-08-19</td>\n",
       "      <td>2015-08-19</td>\n",
       "    </tr>\n",
       "  </tbody>\n",
       "</table>\n",
       "<p>1536 rows × 14 columns</p>\n",
       "</div>"
      ],
      "text/plain": [
       "                                     permalink                         name  \\\n",
       "0                          /organization/-fame                        #fame   \n",
       "22                     /organization/1000lookz                    1000Lookz   \n",
       "135             /organization/21diamonds-india                   21Diamonds   \n",
       "151         /organization/247-learning-private                24x7 Learning   \n",
       "219                    /organization/33coupons                    33Coupons   \n",
       "...                                        ...                          ...   \n",
       "66240                    /organization/zoutons                      Zoutons   \n",
       "66284                      /organization/zumbl                        Zumbl   \n",
       "66301                  /organization/zupermeal                    ZuperMeal   \n",
       "66318                      /organization/zuvvu                        Zuvvu   \n",
       "66351  /organization/zynergy-projects-services  Zynergy Projects & Services   \n",
       "\n",
       "                       homepage_url  \\\n",
       "0                http://livfame.com   \n",
       "22             http://1000lookz.com   \n",
       "135        http://www.21diamonds.de   \n",
       "151     http://www.24x7learning.com   \n",
       "219             http://33coupons.in   \n",
       "...                             ...   \n",
       "66240            http://zoutons.com   \n",
       "66284              http://zumbl.com   \n",
       "66301      http://www.zupermeal.com   \n",
       "66318              http://zuvvu.com   \n",
       "66351  http://www.zynergygroup.net/   \n",
       "\n",
       "                                           category_list funding_total_usd  \\\n",
       "0                                                  Media          10000000   \n",
       "22                                                Beauty                 -   \n",
       "135                                           E-Commerce           6369507   \n",
       "151                             EdTech|Education|Systems           4000000   \n",
       "219                                             Internet             20000   \n",
       "...                                                  ...               ...   \n",
       "66240     E-Commerce|Online Shopping|Sales and Marketing           3300000   \n",
       "66284        Chat|Entertainment|Interest Graph|Messaging            140000   \n",
       "66301                                    Food Processing           2000000   \n",
       "66318  Advertising|Social Media Advertising|Social Me...             12000   \n",
       "66351                                   Clean Technology                 -   \n",
       "\n",
       "          status country_code state_code       region       city  \\\n",
       "0      operating          IND         16       Mumbai     Mumbai   \n",
       "22     operating          IND         25      Chennai    Chennai   \n",
       "135    operating          IND         10    New Delhi    Gurgaon   \n",
       "151    operating          IND         19    Bangalore  Bangalore   \n",
       "219    operating          IND         36       Kanpur     Kanpur   \n",
       "...          ...          ...        ...          ...        ...   \n",
       "66240  operating          IND          7    New Delhi  New Delhi   \n",
       "66284  operating          IND         10    New Delhi    Gurgaon   \n",
       "66301  operating          IND         16  IND - Other    Andheri   \n",
       "66318     closed          IND          9    Ahmedabad  Ahmadabad   \n",
       "66351  operating          IND         25      Chennai    Chennai   \n",
       "\n",
       "       funding_rounds  founded_at first_funding_at last_funding_at  \n",
       "0                   1         NaN       2015-01-05      2015-01-05  \n",
       "22                  1  2008-01-01       2013-07-22      2013-07-22  \n",
       "135                 1  2012-06-01       2012-11-15      2012-11-15  \n",
       "151                 1  2001-01-01       2007-11-06      2007-11-06  \n",
       "219                 1  2015-05-01       2015-07-06      2015-07-06  \n",
       "...               ...         ...              ...             ...  \n",
       "66240               1  2013-01-01       2013-09-06      2013-09-06  \n",
       "66284               3  2012-11-01       2013-04-03      2014-04-05  \n",
       "66301               1         NaN       2015-10-08      2015-10-08  \n",
       "66318               1  2010-06-01       2011-11-01      2011-11-01  \n",
       "66351               1         NaN       2015-08-19      2015-08-19  \n",
       "\n",
       "[1536 rows x 14 columns]"
      ]
     },
     "execution_count": 7,
     "metadata": {},
     "output_type": "execute_result"
    }
   ],
   "source": [
    "filtered_df"
   ]
  },
  {
   "cell_type": "code",
   "execution_count": 8,
   "id": "edd72f09",
   "metadata": {},
   "outputs": [
    {
     "data": {
      "text/plain": [
       "(1536, 14)"
      ]
     },
     "execution_count": 8,
     "metadata": {},
     "output_type": "execute_result"
    }
   ],
   "source": [
    "filtered_df.shape"
   ]
  },
  {
   "cell_type": "code",
   "execution_count": 9,
   "id": "dc7fcd7e",
   "metadata": {},
   "outputs": [
    {
     "data": {
      "text/plain": [
       "(1536, 14)"
      ]
     },
     "execution_count": 9,
     "metadata": {},
     "output_type": "execute_result"
    }
   ],
   "source": [
    "filtered_df.drop_duplicates().shape"
   ]
  },
  {
   "cell_type": "code",
   "execution_count": 10,
   "id": "f5e110dc",
   "metadata": {},
   "outputs": [
    {
     "name": "stdout",
     "output_type": "stream",
     "text": [
      "status               0\n",
      "funding_total_usd    0\n",
      "funding_rounds       0\n",
      "dtype: int64\n"
     ]
    }
   ],
   "source": [
    "check = ['status','funding_total_usd','funding_rounds']\n",
    "null_counts = filtered_df[check].isnull().sum()\n",
    "print(null_counts)"
   ]
  },
  {
   "cell_type": "code",
   "execution_count": 11,
   "id": "427b1e53",
   "metadata": {},
   "outputs": [
    {
     "data": {
      "text/html": [
       "<div>\n",
       "<style scoped>\n",
       "    .dataframe tbody tr th:only-of-type {\n",
       "        vertical-align: middle;\n",
       "    }\n",
       "\n",
       "    .dataframe tbody tr th {\n",
       "        vertical-align: top;\n",
       "    }\n",
       "\n",
       "    .dataframe thead th {\n",
       "        text-align: right;\n",
       "    }\n",
       "</style>\n",
       "<table border=\"1\" class=\"dataframe\">\n",
       "  <thead>\n",
       "    <tr style=\"text-align: right;\">\n",
       "      <th></th>\n",
       "      <th>permalink</th>\n",
       "      <th>name</th>\n",
       "      <th>homepage_url</th>\n",
       "      <th>category_list</th>\n",
       "      <th>funding_total_usd</th>\n",
       "      <th>status</th>\n",
       "      <th>country_code</th>\n",
       "      <th>state_code</th>\n",
       "      <th>region</th>\n",
       "      <th>city</th>\n",
       "      <th>funding_rounds</th>\n",
       "      <th>founded_at</th>\n",
       "      <th>first_funding_at</th>\n",
       "      <th>last_funding_at</th>\n",
       "    </tr>\n",
       "  </thead>\n",
       "  <tbody>\n",
       "    <tr>\n",
       "      <th>0</th>\n",
       "      <td>/organization/-fame</td>\n",
       "      <td>#fame</td>\n",
       "      <td>http://livfame.com</td>\n",
       "      <td>Media</td>\n",
       "      <td>10000000</td>\n",
       "      <td>operating</td>\n",
       "      <td>IND</td>\n",
       "      <td>16</td>\n",
       "      <td>Mumbai</td>\n",
       "      <td>Mumbai</td>\n",
       "      <td>1</td>\n",
       "      <td>NaN</td>\n",
       "      <td>2015-01-05</td>\n",
       "      <td>2015-01-05</td>\n",
       "    </tr>\n",
       "    <tr>\n",
       "      <th>22</th>\n",
       "      <td>/organization/1000lookz</td>\n",
       "      <td>1000Lookz</td>\n",
       "      <td>http://1000lookz.com</td>\n",
       "      <td>Beauty</td>\n",
       "      <td>-</td>\n",
       "      <td>operating</td>\n",
       "      <td>IND</td>\n",
       "      <td>25</td>\n",
       "      <td>Chennai</td>\n",
       "      <td>Chennai</td>\n",
       "      <td>1</td>\n",
       "      <td>2008-01-01</td>\n",
       "      <td>2013-07-22</td>\n",
       "      <td>2013-07-22</td>\n",
       "    </tr>\n",
       "    <tr>\n",
       "      <th>135</th>\n",
       "      <td>/organization/21diamonds-india</td>\n",
       "      <td>21Diamonds</td>\n",
       "      <td>http://www.21diamonds.de</td>\n",
       "      <td>E-Commerce</td>\n",
       "      <td>6369507</td>\n",
       "      <td>operating</td>\n",
       "      <td>IND</td>\n",
       "      <td>10</td>\n",
       "      <td>New Delhi</td>\n",
       "      <td>Gurgaon</td>\n",
       "      <td>1</td>\n",
       "      <td>2012-06-01</td>\n",
       "      <td>2012-11-15</td>\n",
       "      <td>2012-11-15</td>\n",
       "    </tr>\n",
       "    <tr>\n",
       "      <th>151</th>\n",
       "      <td>/organization/247-learning-private</td>\n",
       "      <td>24x7 Learning</td>\n",
       "      <td>http://www.24x7learning.com</td>\n",
       "      <td>EdTech|Education|Systems</td>\n",
       "      <td>4000000</td>\n",
       "      <td>operating</td>\n",
       "      <td>IND</td>\n",
       "      <td>19</td>\n",
       "      <td>Bangalore</td>\n",
       "      <td>Bangalore</td>\n",
       "      <td>1</td>\n",
       "      <td>2001-01-01</td>\n",
       "      <td>2007-11-06</td>\n",
       "      <td>2007-11-06</td>\n",
       "    </tr>\n",
       "    <tr>\n",
       "      <th>219</th>\n",
       "      <td>/organization/33coupons</td>\n",
       "      <td>33Coupons</td>\n",
       "      <td>http://33coupons.in</td>\n",
       "      <td>Internet</td>\n",
       "      <td>20000</td>\n",
       "      <td>operating</td>\n",
       "      <td>IND</td>\n",
       "      <td>36</td>\n",
       "      <td>Kanpur</td>\n",
       "      <td>Kanpur</td>\n",
       "      <td>1</td>\n",
       "      <td>2015-05-01</td>\n",
       "      <td>2015-07-06</td>\n",
       "      <td>2015-07-06</td>\n",
       "    </tr>\n",
       "    <tr>\n",
       "      <th>...</th>\n",
       "      <td>...</td>\n",
       "      <td>...</td>\n",
       "      <td>...</td>\n",
       "      <td>...</td>\n",
       "      <td>...</td>\n",
       "      <td>...</td>\n",
       "      <td>...</td>\n",
       "      <td>...</td>\n",
       "      <td>...</td>\n",
       "      <td>...</td>\n",
       "      <td>...</td>\n",
       "      <td>...</td>\n",
       "      <td>...</td>\n",
       "      <td>...</td>\n",
       "    </tr>\n",
       "    <tr>\n",
       "      <th>66240</th>\n",
       "      <td>/organization/zoutons</td>\n",
       "      <td>Zoutons</td>\n",
       "      <td>http://zoutons.com</td>\n",
       "      <td>E-Commerce|Online Shopping|Sales and Marketing</td>\n",
       "      <td>3300000</td>\n",
       "      <td>operating</td>\n",
       "      <td>IND</td>\n",
       "      <td>7</td>\n",
       "      <td>New Delhi</td>\n",
       "      <td>New Delhi</td>\n",
       "      <td>1</td>\n",
       "      <td>2013-01-01</td>\n",
       "      <td>2013-09-06</td>\n",
       "      <td>2013-09-06</td>\n",
       "    </tr>\n",
       "    <tr>\n",
       "      <th>66284</th>\n",
       "      <td>/organization/zumbl</td>\n",
       "      <td>Zumbl</td>\n",
       "      <td>http://zumbl.com</td>\n",
       "      <td>Chat|Entertainment|Interest Graph|Messaging</td>\n",
       "      <td>140000</td>\n",
       "      <td>operating</td>\n",
       "      <td>IND</td>\n",
       "      <td>10</td>\n",
       "      <td>New Delhi</td>\n",
       "      <td>Gurgaon</td>\n",
       "      <td>3</td>\n",
       "      <td>2012-11-01</td>\n",
       "      <td>2013-04-03</td>\n",
       "      <td>2014-04-05</td>\n",
       "    </tr>\n",
       "    <tr>\n",
       "      <th>66301</th>\n",
       "      <td>/organization/zupermeal</td>\n",
       "      <td>ZuperMeal</td>\n",
       "      <td>http://www.zupermeal.com</td>\n",
       "      <td>Food Processing</td>\n",
       "      <td>2000000</td>\n",
       "      <td>operating</td>\n",
       "      <td>IND</td>\n",
       "      <td>16</td>\n",
       "      <td>IND - Other</td>\n",
       "      <td>Andheri</td>\n",
       "      <td>1</td>\n",
       "      <td>NaN</td>\n",
       "      <td>2015-10-08</td>\n",
       "      <td>2015-10-08</td>\n",
       "    </tr>\n",
       "    <tr>\n",
       "      <th>66318</th>\n",
       "      <td>/organization/zuvvu</td>\n",
       "      <td>Zuvvu</td>\n",
       "      <td>http://zuvvu.com</td>\n",
       "      <td>Advertising|Social Media Advertising|Social Me...</td>\n",
       "      <td>12000</td>\n",
       "      <td>closed</td>\n",
       "      <td>IND</td>\n",
       "      <td>9</td>\n",
       "      <td>Ahmedabad</td>\n",
       "      <td>Ahmadabad</td>\n",
       "      <td>1</td>\n",
       "      <td>2010-06-01</td>\n",
       "      <td>2011-11-01</td>\n",
       "      <td>2011-11-01</td>\n",
       "    </tr>\n",
       "    <tr>\n",
       "      <th>66351</th>\n",
       "      <td>/organization/zynergy-projects-services</td>\n",
       "      <td>Zynergy Projects &amp; Services</td>\n",
       "      <td>http://www.zynergygroup.net/</td>\n",
       "      <td>Clean Technology</td>\n",
       "      <td>-</td>\n",
       "      <td>operating</td>\n",
       "      <td>IND</td>\n",
       "      <td>25</td>\n",
       "      <td>Chennai</td>\n",
       "      <td>Chennai</td>\n",
       "      <td>1</td>\n",
       "      <td>NaN</td>\n",
       "      <td>2015-08-19</td>\n",
       "      <td>2015-08-19</td>\n",
       "    </tr>\n",
       "  </tbody>\n",
       "</table>\n",
       "<p>1536 rows × 14 columns</p>\n",
       "</div>"
      ],
      "text/plain": [
       "                                     permalink                         name  \\\n",
       "0                          /organization/-fame                        #fame   \n",
       "22                     /organization/1000lookz                    1000Lookz   \n",
       "135             /organization/21diamonds-india                   21Diamonds   \n",
       "151         /organization/247-learning-private                24x7 Learning   \n",
       "219                    /organization/33coupons                    33Coupons   \n",
       "...                                        ...                          ...   \n",
       "66240                    /organization/zoutons                      Zoutons   \n",
       "66284                      /organization/zumbl                        Zumbl   \n",
       "66301                  /organization/zupermeal                    ZuperMeal   \n",
       "66318                      /organization/zuvvu                        Zuvvu   \n",
       "66351  /organization/zynergy-projects-services  Zynergy Projects & Services   \n",
       "\n",
       "                       homepage_url  \\\n",
       "0                http://livfame.com   \n",
       "22             http://1000lookz.com   \n",
       "135        http://www.21diamonds.de   \n",
       "151     http://www.24x7learning.com   \n",
       "219             http://33coupons.in   \n",
       "...                             ...   \n",
       "66240            http://zoutons.com   \n",
       "66284              http://zumbl.com   \n",
       "66301      http://www.zupermeal.com   \n",
       "66318              http://zuvvu.com   \n",
       "66351  http://www.zynergygroup.net/   \n",
       "\n",
       "                                           category_list funding_total_usd  \\\n",
       "0                                                  Media          10000000   \n",
       "22                                                Beauty                 -   \n",
       "135                                           E-Commerce           6369507   \n",
       "151                             EdTech|Education|Systems           4000000   \n",
       "219                                             Internet             20000   \n",
       "...                                                  ...               ...   \n",
       "66240     E-Commerce|Online Shopping|Sales and Marketing           3300000   \n",
       "66284        Chat|Entertainment|Interest Graph|Messaging            140000   \n",
       "66301                                    Food Processing           2000000   \n",
       "66318  Advertising|Social Media Advertising|Social Me...             12000   \n",
       "66351                                   Clean Technology                 -   \n",
       "\n",
       "          status country_code state_code       region       city  \\\n",
       "0      operating          IND         16       Mumbai     Mumbai   \n",
       "22     operating          IND         25      Chennai    Chennai   \n",
       "135    operating          IND         10    New Delhi    Gurgaon   \n",
       "151    operating          IND         19    Bangalore  Bangalore   \n",
       "219    operating          IND         36       Kanpur     Kanpur   \n",
       "...          ...          ...        ...          ...        ...   \n",
       "66240  operating          IND          7    New Delhi  New Delhi   \n",
       "66284  operating          IND         10    New Delhi    Gurgaon   \n",
       "66301  operating          IND         16  IND - Other    Andheri   \n",
       "66318     closed          IND          9    Ahmedabad  Ahmadabad   \n",
       "66351  operating          IND         25      Chennai    Chennai   \n",
       "\n",
       "       funding_rounds  founded_at first_funding_at last_funding_at  \n",
       "0                   1         NaN       2015-01-05      2015-01-05  \n",
       "22                  1  2008-01-01       2013-07-22      2013-07-22  \n",
       "135                 1  2012-06-01       2012-11-15      2012-11-15  \n",
       "151                 1  2001-01-01       2007-11-06      2007-11-06  \n",
       "219                 1  2015-05-01       2015-07-06      2015-07-06  \n",
       "...               ...         ...              ...             ...  \n",
       "66240               1  2013-01-01       2013-09-06      2013-09-06  \n",
       "66284               3  2012-11-01       2013-04-03      2014-04-05  \n",
       "66301               1         NaN       2015-10-08      2015-10-08  \n",
       "66318               1  2010-06-01       2011-11-01      2011-11-01  \n",
       "66351               1         NaN       2015-08-19      2015-08-19  \n",
       "\n",
       "[1536 rows x 14 columns]"
      ]
     },
     "execution_count": 11,
     "metadata": {},
     "output_type": "execute_result"
    }
   ],
   "source": [
    "filtered_df"
   ]
  },
  {
   "cell_type": "code",
   "execution_count": 12,
   "id": "bd086261",
   "metadata": {},
   "outputs": [
    {
     "name": "stdout",
     "output_type": "stream",
     "text": [
      "status\n",
      "operating    1467\n",
      "closed         69\n",
      "Name: count, dtype: int64\n"
     ]
    }
   ],
   "source": [
    "status_counts = filtered_df['status'].value_counts()\n",
    "print(status_counts)"
   ]
  },
  {
   "cell_type": "code",
   "execution_count": 13,
   "id": "58387a9f",
   "metadata": {},
   "outputs": [],
   "source": [
    "city_counts = filtered_df['city'].value_counts()"
   ]
  },
  {
   "cell_type": "code",
   "execution_count": 14,
   "id": "b25dcb1f",
   "metadata": {},
   "outputs": [
    {
     "data": {
      "text/plain": [
       "city\n",
       "Bangalore    372\n",
       "Mumbai       282\n",
       "New Delhi    170\n",
       "Gurgaon      133\n",
       "Hyderabad     84\n",
       "            ... \n",
       "Khopoli        1\n",
       "Jalna          1\n",
       "Hubli          1\n",
       "Bardoli        1\n",
       "Belgaum        1\n",
       "Name: count, Length: 91, dtype: int64"
      ]
     },
     "execution_count": 14,
     "metadata": {},
     "output_type": "execute_result"
    }
   ],
   "source": [
    "city_counts"
   ]
  },
  {
   "cell_type": "code",
   "execution_count": 15,
   "id": "84ceafe2",
   "metadata": {
    "scrolled": true
   },
   "outputs": [
    {
     "name": "stderr",
     "output_type": "stream",
     "text": [
      "C:\\Users\\srija\\AppData\\Local\\Temp\\ipykernel_21608\\1954329623.py:1: SettingWithCopyWarning: \n",
      "A value is trying to be set on a copy of a slice from a DataFrame.\n",
      "Try using .loc[row_indexer,col_indexer] = value instead\n",
      "\n",
      "See the caveats in the documentation: https://pandas.pydata.org/pandas-docs/stable/user_guide/indexing.html#returning-a-view-versus-a-copy\n",
      "  filtered_df['funding_total_usd'] = pd.to_numeric(filtered_df['funding_total_usd'], errors='coerce')\n"
     ]
    }
   ],
   "source": [
    "filtered_df['funding_total_usd'] = pd.to_numeric(filtered_df['funding_total_usd'], errors='coerce')"
   ]
  },
  {
   "cell_type": "code",
   "execution_count": 126,
   "id": "89cb5cfa-d954-4fdd-9604-43c74d480ba4",
   "metadata": {},
   "outputs": [],
   "source": [
    "filtered_df.loc[:, 'funding_total_usd'] = pd.to_numeric(filtered_df['funding_total_usd'], errors='coerce')\n"
   ]
  },
  {
   "cell_type": "code",
   "execution_count": 127,
   "id": "39c8fc32",
   "metadata": {},
   "outputs": [
    {
     "name": "stdout",
     "output_type": "stream",
     "text": [
      "status\n",
      "closed       1.032291e+07\n",
      "operating    2.398137e+07\n",
      "Name: funding_total_usd, dtype: float64\n"
     ]
    }
   ],
   "source": [
    "mean_funds_by_status = filtered_df.groupby('status')['funding_total_usd'].mean()\n",
    "\n",
    "print(mean_funds_by_status)"
   ]
  },
  {
   "cell_type": "code",
   "execution_count": 128,
   "id": "dcfe18f3",
   "metadata": {},
   "outputs": [
    {
     "name": "stdout",
     "output_type": "stream",
     "text": [
      "status\n",
      "closed       $10,322,911.35\n",
      "operating    $23,981,373.34\n",
      "Name: funding_total_usd, dtype: object\n"
     ]
    }
   ],
   "source": [
    "formatted_mean_funds_by_status = mean_funds_by_status.map('${:,.2f}'.format)\n",
    "\n",
    "print(formatted_mean_funds_by_status)"
   ]
  },
  {
   "cell_type": "code",
   "execution_count": 18,
   "id": "f7572e01",
   "metadata": {},
   "outputs": [
    {
     "data": {
      "image/png": "[encoded data removed]",
      "text/plain": [
       "<Figure size 640x480 with 1 Axes>"
      ]
     },
     "metadata": {},
     "output_type": "display_data"
    }
   ],
   "source": [
    "\n",
    "mean_funds_by_status.plot(kind='bar', color=['blue', 'green'])\n",
    "plt.title('Mean Funds Raised by Status')\n",
    "plt.xlabel('Status')\n",
    "plt.ylabel('Mean Funds Raised (USD)')\n",
    "plt.xticks(rotation=0)  \n",
    "\n",
    "\n",
    "for i, value in enumerate(mean_funds_by_status):\n",
    "    plt.text(i, value, '${:,.2f}'.format(value), ha='center', va='bottom')\n",
    "\n",
    "plt.tight_layout()  \n",
    "plt.show()"
   ]
  },
  {
   "cell_type": "code",
   "execution_count": 19,
   "id": "2a054dca",
   "metadata": {},
   "outputs": [
    {
     "name": "stdout",
     "output_type": "stream",
     "text": [
      "Number of unique categories: 806\n"
     ]
    }
   ],
   "source": [
    "num_categories = filtered_df['category_list'].nunique()\n",
    "print(\"Number of unique categories:\", num_categories)"
   ]
  },
  {
   "cell_type": "code",
   "execution_count": 20,
   "id": "fa5e15f4",
   "metadata": {},
   "outputs": [
    {
     "name": "stdout",
     "output_type": "stream",
     "text": [
      "category_list\n",
      "E-Commerce          71\n",
      "Software            67\n",
      "Education           45\n",
      "Internet            28\n",
      "Finance             27\n",
      "Real Estate         25\n",
      "Mobile              24\n",
      "Clean Technology    22\n",
      "Curated Web         22\n",
      "Apps                20\n",
      "Name: count, dtype: int64\n"
     ]
    }
   ],
   "source": [
    "\n",
    "top_categories = filtered_df['category_list'].value_counts().head(10).index.tolist()\n",
    "\n",
    "\n",
    "df_top_categories = filtered_df[filtered_df['category_list'].isin(top_categories)]\n",
    "\n",
    "\n",
    "startup_counts_by_category = df_top_categories['category_list'].value_counts()\n",
    "\n",
    "print(startup_counts_by_category)"
   ]
  },
  {
   "cell_type": "code",
   "execution_count": 21,
   "id": "d494a404",
   "metadata": {},
   "outputs": [
    {
     "name": "stdout",
     "output_type": "stream",
     "text": [
      "category_list\n",
      "Apps                  500000.0\n",
      "Clean Technology    15350000.0\n",
      "Curated Web          5000000.0\n",
      "E-Commerce           1200000.0\n",
      "Education            1800000.0\n",
      "Finance              8910000.0\n",
      "Internet              650000.0\n",
      "Mobile               4880000.0\n",
      "Real Estate         11500000.0\n",
      "Software             1500000.0\n",
      "Name: funding_total_usd, dtype: float64\n"
     ]
    }
   ],
   "source": [
    "median_funds_by_category = df_top_categories.groupby('category_list')['funding_total_usd'].median()\n",
    "\n",
    "print(median_funds_by_category)"
   ]
  },
  {
   "cell_type": "code",
   "execution_count": 22,
   "id": "035e1888",
   "metadata": {},
   "outputs": [],
   "source": [
    "funding_round_counts = filtered_df['funding_rounds'].value_counts().sort_index()"
   ]
  },
  {
   "cell_type": "code",
   "execution_count": 23,
   "id": "1432dee7",
   "metadata": {},
   "outputs": [
    {
     "data": {
      "text/plain": [
       "funding_rounds\n",
       "1     1158\n",
       "2      239\n",
       "3       93\n",
       "4       27\n",
       "5        9\n",
       "6        5\n",
       "7        2\n",
       "8        1\n",
       "11       1\n",
       "12       1\n",
       "Name: count, dtype: int64"
      ]
     },
     "execution_count": 23,
     "metadata": {},
     "output_type": "execute_result"
    }
   ],
   "source": [
    "funding_round_counts"
   ]
  },
  {
   "cell_type": "code",
   "execution_count": 24,
   "id": "28c5ae8b",
   "metadata": {},
   "outputs": [
    {
     "data": {
      "text/html": [
       "<div>\n",
       "<style scoped>\n",
       "    .dataframe tbody tr th:only-of-type {\n",
       "        vertical-align: middle;\n",
       "    }\n",
       "\n",
       "    .dataframe tbody tr th {\n",
       "        vertical-align: top;\n",
       "    }\n",
       "\n",
       "    .dataframe thead th {\n",
       "        text-align: right;\n",
       "    }\n",
       "</style>\n",
       "<table border=\"1\" class=\"dataframe\">\n",
       "  <thead>\n",
       "    <tr style=\"text-align: right;\">\n",
       "      <th></th>\n",
       "      <th>permalink</th>\n",
       "      <th>name</th>\n",
       "      <th>homepage_url</th>\n",
       "      <th>category_list</th>\n",
       "      <th>funding_total_usd</th>\n",
       "      <th>status</th>\n",
       "      <th>country_code</th>\n",
       "      <th>state_code</th>\n",
       "      <th>region</th>\n",
       "      <th>city</th>\n",
       "      <th>funding_rounds</th>\n",
       "      <th>founded_at</th>\n",
       "      <th>first_funding_at</th>\n",
       "      <th>last_funding_at</th>\n",
       "    </tr>\n",
       "  </thead>\n",
       "  <tbody>\n",
       "    <tr>\n",
       "      <th>52691</th>\n",
       "      <td>/organization/snapdeal</td>\n",
       "      <td>Snapdeal</td>\n",
       "      <td>http://www.snapdeal.com</td>\n",
       "      <td>E-Commerce</td>\n",
       "      <td>1.897700e+09</td>\n",
       "      <td>operating</td>\n",
       "      <td>IND</td>\n",
       "      <td>7</td>\n",
       "      <td>New Delhi</td>\n",
       "      <td>New Delhi</td>\n",
       "      <td>11</td>\n",
       "      <td>2010-01-01</td>\n",
       "      <td>2011-01-01</td>\n",
       "      <td>2015-08-18</td>\n",
       "    </tr>\n",
       "  </tbody>\n",
       "</table>\n",
       "</div>"
      ],
      "text/plain": [
       "                    permalink      name             homepage_url  \\\n",
       "52691  /organization/snapdeal  Snapdeal  http://www.snapdeal.com   \n",
       "\n",
       "      category_list  funding_total_usd     status country_code state_code  \\\n",
       "52691    E-Commerce       1.897700e+09  operating          IND          7   \n",
       "\n",
       "          region       city  funding_rounds  founded_at first_funding_at  \\\n",
       "52691  New Delhi  New Delhi              11  2010-01-01       2011-01-01   \n",
       "\n",
       "      last_funding_at  \n",
       "52691      2015-08-18  "
      ]
     },
     "execution_count": 24,
     "metadata": {},
     "output_type": "execute_result"
    }
   ],
   "source": [
    "filtered_df[filtered_df['funding_rounds']==11]"
   ]
  },
  {
   "cell_type": "code",
   "execution_count": 25,
   "id": "53a69a05",
   "metadata": {},
   "outputs": [
    {
     "data": {
      "text/html": [
       "<div>\n",
       "<style scoped>\n",
       "    .dataframe tbody tr th:only-of-type {\n",
       "        vertical-align: middle;\n",
       "    }\n",
       "\n",
       "    .dataframe tbody tr th {\n",
       "        vertical-align: top;\n",
       "    }\n",
       "\n",
       "    .dataframe thead th {\n",
       "        text-align: right;\n",
       "    }\n",
       "</style>\n",
       "<table border=\"1\" class=\"dataframe\">\n",
       "  <thead>\n",
       "    <tr style=\"text-align: right;\">\n",
       "      <th></th>\n",
       "      <th>permalink</th>\n",
       "      <th>name</th>\n",
       "      <th>homepage_url</th>\n",
       "      <th>category_list</th>\n",
       "      <th>funding_total_usd</th>\n",
       "      <th>status</th>\n",
       "      <th>country_code</th>\n",
       "      <th>state_code</th>\n",
       "      <th>region</th>\n",
       "      <th>city</th>\n",
       "      <th>funding_rounds</th>\n",
       "      <th>founded_at</th>\n",
       "      <th>first_funding_at</th>\n",
       "      <th>last_funding_at</th>\n",
       "    </tr>\n",
       "  </thead>\n",
       "  <tbody>\n",
       "    <tr>\n",
       "      <th>20874</th>\n",
       "      <td>/organization/flipkart</td>\n",
       "      <td>Flipkart</td>\n",
       "      <td>http://www.flipkart.com</td>\n",
       "      <td>E-Commerce|Online Shopping</td>\n",
       "      <td>3.151140e+09</td>\n",
       "      <td>operating</td>\n",
       "      <td>IND</td>\n",
       "      <td>19</td>\n",
       "      <td>Bangalore</td>\n",
       "      <td>Bangalore</td>\n",
       "      <td>12</td>\n",
       "      <td>2007-09-01</td>\n",
       "      <td>2009-01-01</td>\n",
       "      <td>2015-07-28</td>\n",
       "    </tr>\n",
       "  </tbody>\n",
       "</table>\n",
       "</div>"
      ],
      "text/plain": [
       "                    permalink      name             homepage_url  \\\n",
       "20874  /organization/flipkart  Flipkart  http://www.flipkart.com   \n",
       "\n",
       "                    category_list  funding_total_usd     status country_code  \\\n",
       "20874  E-Commerce|Online Shopping       3.151140e+09  operating          IND   \n",
       "\n",
       "      state_code     region       city  funding_rounds  founded_at  \\\n",
       "20874         19  Bangalore  Bangalore              12  2007-09-01   \n",
       "\n",
       "      first_funding_at last_funding_at  \n",
       "20874       2009-01-01      2015-07-28  "
      ]
     },
     "execution_count": 25,
     "metadata": {},
     "output_type": "execute_result"
    }
   ],
   "source": [
    "filtered_df[filtered_df['funding_rounds']==12]"
   ]
  },
  {
   "cell_type": "code",
   "execution_count": 26,
   "id": "3704d8e7",
   "metadata": {},
   "outputs": [
    {
     "data": {
      "text/html": [
       "<div>\n",
       "<style scoped>\n",
       "    .dataframe tbody tr th:only-of-type {\n",
       "        vertical-align: middle;\n",
       "    }\n",
       "\n",
       "    .dataframe tbody tr th {\n",
       "        vertical-align: top;\n",
       "    }\n",
       "\n",
       "    .dataframe thead th {\n",
       "        text-align: right;\n",
       "    }\n",
       "</style>\n",
       "<table border=\"1\" class=\"dataframe\">\n",
       "  <thead>\n",
       "    <tr style=\"text-align: right;\">\n",
       "      <th></th>\n",
       "      <th>permalink</th>\n",
       "      <th>name</th>\n",
       "      <th>homepage_url</th>\n",
       "      <th>category_list</th>\n",
       "      <th>funding_total_usd</th>\n",
       "      <th>status</th>\n",
       "      <th>country_code</th>\n",
       "      <th>state_code</th>\n",
       "      <th>region</th>\n",
       "      <th>city</th>\n",
       "      <th>funding_rounds</th>\n",
       "      <th>founded_at</th>\n",
       "      <th>first_funding_at</th>\n",
       "      <th>last_funding_at</th>\n",
       "    </tr>\n",
       "  </thead>\n",
       "  <tbody>\n",
       "    <tr>\n",
       "      <th>0</th>\n",
       "      <td>/organization/-fame</td>\n",
       "      <td>#fame</td>\n",
       "      <td>http://livfame.com</td>\n",
       "      <td>Media</td>\n",
       "      <td>10000000.0</td>\n",
       "      <td>operating</td>\n",
       "      <td>IND</td>\n",
       "      <td>16</td>\n",
       "      <td>Mumbai</td>\n",
       "      <td>Mumbai</td>\n",
       "      <td>1</td>\n",
       "      <td>NaN</td>\n",
       "      <td>2015-01-05</td>\n",
       "      <td>2015-01-05</td>\n",
       "    </tr>\n",
       "    <tr>\n",
       "      <th>22</th>\n",
       "      <td>/organization/1000lookz</td>\n",
       "      <td>1000Lookz</td>\n",
       "      <td>http://1000lookz.com</td>\n",
       "      <td>Beauty</td>\n",
       "      <td>NaN</td>\n",
       "      <td>operating</td>\n",
       "      <td>IND</td>\n",
       "      <td>25</td>\n",
       "      <td>Chennai</td>\n",
       "      <td>Chennai</td>\n",
       "      <td>1</td>\n",
       "      <td>2008-01-01</td>\n",
       "      <td>2013-07-22</td>\n",
       "      <td>2013-07-22</td>\n",
       "    </tr>\n",
       "    <tr>\n",
       "      <th>135</th>\n",
       "      <td>/organization/21diamonds-india</td>\n",
       "      <td>21Diamonds</td>\n",
       "      <td>http://www.21diamonds.de</td>\n",
       "      <td>E-Commerce</td>\n",
       "      <td>6369507.0</td>\n",
       "      <td>operating</td>\n",
       "      <td>IND</td>\n",
       "      <td>10</td>\n",
       "      <td>New Delhi</td>\n",
       "      <td>Gurgaon</td>\n",
       "      <td>1</td>\n",
       "      <td>2012-06-01</td>\n",
       "      <td>2012-11-15</td>\n",
       "      <td>2012-11-15</td>\n",
       "    </tr>\n",
       "    <tr>\n",
       "      <th>151</th>\n",
       "      <td>/organization/247-learning-private</td>\n",
       "      <td>24x7 Learning</td>\n",
       "      <td>http://www.24x7learning.com</td>\n",
       "      <td>EdTech|Education|Systems</td>\n",
       "      <td>4000000.0</td>\n",
       "      <td>operating</td>\n",
       "      <td>IND</td>\n",
       "      <td>19</td>\n",
       "      <td>Bangalore</td>\n",
       "      <td>Bangalore</td>\n",
       "      <td>1</td>\n",
       "      <td>2001-01-01</td>\n",
       "      <td>2007-11-06</td>\n",
       "      <td>2007-11-06</td>\n",
       "    </tr>\n",
       "    <tr>\n",
       "      <th>219</th>\n",
       "      <td>/organization/33coupons</td>\n",
       "      <td>33Coupons</td>\n",
       "      <td>http://33coupons.in</td>\n",
       "      <td>Internet</td>\n",
       "      <td>20000.0</td>\n",
       "      <td>operating</td>\n",
       "      <td>IND</td>\n",
       "      <td>36</td>\n",
       "      <td>Kanpur</td>\n",
       "      <td>Kanpur</td>\n",
       "      <td>1</td>\n",
       "      <td>2015-05-01</td>\n",
       "      <td>2015-07-06</td>\n",
       "      <td>2015-07-06</td>\n",
       "    </tr>\n",
       "    <tr>\n",
       "      <th>...</th>\n",
       "      <td>...</td>\n",
       "      <td>...</td>\n",
       "      <td>...</td>\n",
       "      <td>...</td>\n",
       "      <td>...</td>\n",
       "      <td>...</td>\n",
       "      <td>...</td>\n",
       "      <td>...</td>\n",
       "      <td>...</td>\n",
       "      <td>...</td>\n",
       "      <td>...</td>\n",
       "      <td>...</td>\n",
       "      <td>...</td>\n",
       "      <td>...</td>\n",
       "    </tr>\n",
       "    <tr>\n",
       "      <th>66240</th>\n",
       "      <td>/organization/zoutons</td>\n",
       "      <td>Zoutons</td>\n",
       "      <td>http://zoutons.com</td>\n",
       "      <td>E-Commerce|Online Shopping|Sales and Marketing</td>\n",
       "      <td>3300000.0</td>\n",
       "      <td>operating</td>\n",
       "      <td>IND</td>\n",
       "      <td>7</td>\n",
       "      <td>New Delhi</td>\n",
       "      <td>New Delhi</td>\n",
       "      <td>1</td>\n",
       "      <td>2013-01-01</td>\n",
       "      <td>2013-09-06</td>\n",
       "      <td>2013-09-06</td>\n",
       "    </tr>\n",
       "    <tr>\n",
       "      <th>66284</th>\n",
       "      <td>/organization/zumbl</td>\n",
       "      <td>Zumbl</td>\n",
       "      <td>http://zumbl.com</td>\n",
       "      <td>Chat|Entertainment|Interest Graph|Messaging</td>\n",
       "      <td>140000.0</td>\n",
       "      <td>operating</td>\n",
       "      <td>IND</td>\n",
       "      <td>10</td>\n",
       "      <td>New Delhi</td>\n",
       "      <td>Gurgaon</td>\n",
       "      <td>3</td>\n",
       "      <td>2012-11-01</td>\n",
       "      <td>2013-04-03</td>\n",
       "      <td>2014-04-05</td>\n",
       "    </tr>\n",
       "    <tr>\n",
       "      <th>66301</th>\n",
       "      <td>/organization/zupermeal</td>\n",
       "      <td>ZuperMeal</td>\n",
       "      <td>http://www.zupermeal.com</td>\n",
       "      <td>Food Processing</td>\n",
       "      <td>2000000.0</td>\n",
       "      <td>operating</td>\n",
       "      <td>IND</td>\n",
       "      <td>16</td>\n",
       "      <td>IND - Other</td>\n",
       "      <td>Andheri</td>\n",
       "      <td>1</td>\n",
       "      <td>NaN</td>\n",
       "      <td>2015-10-08</td>\n",
       "      <td>2015-10-08</td>\n",
       "    </tr>\n",
       "    <tr>\n",
       "      <th>66318</th>\n",
       "      <td>/organization/zuvvu</td>\n",
       "      <td>Zuvvu</td>\n",
       "      <td>http://zuvvu.com</td>\n",
       "      <td>Advertising|Social Media Advertising|Social Me...</td>\n",
       "      <td>12000.0</td>\n",
       "      <td>closed</td>\n",
       "      <td>IND</td>\n",
       "      <td>9</td>\n",
       "      <td>Ahmedabad</td>\n",
       "      <td>Ahmadabad</td>\n",
       "      <td>1</td>\n",
       "      <td>2010-06-01</td>\n",
       "      <td>2011-11-01</td>\n",
       "      <td>2011-11-01</td>\n",
       "    </tr>\n",
       "    <tr>\n",
       "      <th>66351</th>\n",
       "      <td>/organization/zynergy-projects-services</td>\n",
       "      <td>Zynergy Projects &amp; Services</td>\n",
       "      <td>http://www.zynergygroup.net/</td>\n",
       "      <td>Clean Technology</td>\n",
       "      <td>NaN</td>\n",
       "      <td>operating</td>\n",
       "      <td>IND</td>\n",
       "      <td>25</td>\n",
       "      <td>Chennai</td>\n",
       "      <td>Chennai</td>\n",
       "      <td>1</td>\n",
       "      <td>NaN</td>\n",
       "      <td>2015-08-19</td>\n",
       "      <td>2015-08-19</td>\n",
       "    </tr>\n",
       "  </tbody>\n",
       "</table>\n",
       "<p>1536 rows × 14 columns</p>\n",
       "</div>"
      ],
      "text/plain": [
       "                                     permalink                         name  \\\n",
       "0                          /organization/-fame                        #fame   \n",
       "22                     /organization/1000lookz                    1000Lookz   \n",
       "135             /organization/21diamonds-india                   21Diamonds   \n",
       "151         /organization/247-learning-private                24x7 Learning   \n",
       "219                    /organization/33coupons                    33Coupons   \n",
       "...                                        ...                          ...   \n",
       "66240                    /organization/zoutons                      Zoutons   \n",
       "66284                      /organization/zumbl                        Zumbl   \n",
       "66301                  /organization/zupermeal                    ZuperMeal   \n",
       "66318                      /organization/zuvvu                        Zuvvu   \n",
       "66351  /organization/zynergy-projects-services  Zynergy Projects & Services   \n",
       "\n",
       "                       homepage_url  \\\n",
       "0                http://livfame.com   \n",
       "22             http://1000lookz.com   \n",
       "135        http://www.21diamonds.de   \n",
       "151     http://www.24x7learning.com   \n",
       "219             http://33coupons.in   \n",
       "...                             ...   \n",
       "66240            http://zoutons.com   \n",
       "66284              http://zumbl.com   \n",
       "66301      http://www.zupermeal.com   \n",
       "66318              http://zuvvu.com   \n",
       "66351  http://www.zynergygroup.net/   \n",
       "\n",
       "                                           category_list  funding_total_usd  \\\n",
       "0                                                  Media         10000000.0   \n",
       "22                                                Beauty                NaN   \n",
       "135                                           E-Commerce          6369507.0   \n",
       "151                             EdTech|Education|Systems          4000000.0   \n",
       "219                                             Internet            20000.0   \n",
       "...                                                  ...                ...   \n",
       "66240     E-Commerce|Online Shopping|Sales and Marketing          3300000.0   \n",
       "66284        Chat|Entertainment|Interest Graph|Messaging           140000.0   \n",
       "66301                                    Food Processing          2000000.0   \n",
       "66318  Advertising|Social Media Advertising|Social Me...            12000.0   \n",
       "66351                                   Clean Technology                NaN   \n",
       "\n",
       "          status country_code state_code       region       city  \\\n",
       "0      operating          IND         16       Mumbai     Mumbai   \n",
       "22     operating          IND         25      Chennai    Chennai   \n",
       "135    operating          IND         10    New Delhi    Gurgaon   \n",
       "151    operating          IND         19    Bangalore  Bangalore   \n",
       "219    operating          IND         36       Kanpur     Kanpur   \n",
       "...          ...          ...        ...          ...        ...   \n",
       "66240  operating          IND          7    New Delhi  New Delhi   \n",
       "66284  operating          IND         10    New Delhi    Gurgaon   \n",
       "66301  operating          IND         16  IND - Other    Andheri   \n",
       "66318     closed          IND          9    Ahmedabad  Ahmadabad   \n",
       "66351  operating          IND         25      Chennai    Chennai   \n",
       "\n",
       "       funding_rounds  founded_at first_funding_at last_funding_at  \n",
       "0                   1         NaN       2015-01-05      2015-01-05  \n",
       "22                  1  2008-01-01       2013-07-22      2013-07-22  \n",
       "135                 1  2012-06-01       2012-11-15      2012-11-15  \n",
       "151                 1  2001-01-01       2007-11-06      2007-11-06  \n",
       "219                 1  2015-05-01       2015-07-06      2015-07-06  \n",
       "...               ...         ...              ...             ...  \n",
       "66240               1  2013-01-01       2013-09-06      2013-09-06  \n",
       "66284               3  2012-11-01       2013-04-03      2014-04-05  \n",
       "66301               1         NaN       2015-10-08      2015-10-08  \n",
       "66318               1  2010-06-01       2011-11-01      2011-11-01  \n",
       "66351               1         NaN       2015-08-19      2015-08-19  \n",
       "\n",
       "[1536 rows x 14 columns]"
      ]
     },
     "execution_count": 26,
     "metadata": {},
     "output_type": "execute_result"
    }
   ],
   "source": [
    "filtered_df"
   ]
  },
  {
   "cell_type": "code",
   "execution_count": 29,
   "id": "1d32e653",
   "metadata": {},
   "outputs": [
    {
     "data": {
      "text/plain": [
       "funding_rounds\n",
       "1     1158\n",
       "2      239\n",
       "3       93\n",
       "4       27\n",
       "5        9\n",
       "6        5\n",
       "7        2\n",
       "12       1\n",
       "11       1\n",
       "8        1\n",
       "Name: count, dtype: int64"
      ]
     },
     "execution_count": 29,
     "metadata": {},
     "output_type": "execute_result"
    }
   ],
   "source": [
    "filtered_df['funding_rounds'].value_counts().sort"
   ]
  },
  {
   "cell_type": "code",
   "execution_count": 31,
   "id": "9bd735bd-16de-4845-a27d-75e21e132271",
   "metadata": {},
   "outputs": [
    {
     "data": {
      "image/png": "[encoded data removed]",
      "text/plain": [
       "<Figure size 1200x600 with 1 Axes>"
      ]
     },
     "metadata": {},
     "output_type": "display_data"
    }
   ],
   "source": [
    "funding_round_counts = filtered_df['funding_rounds'].value_counts().sort_index()\n",
    "\n",
    "plt.figure(figsize=(12, 6))\n",
    "bars= plt.bar(funding_round_counts.index, funding_round_counts.values, color='skyblue', edgecolor='black')\n",
    "plt.xlabel('Number of Funding Rounds')\n",
    "plt.ylabel('Count')\n",
    "plt.title('Distribution of Number of Funding Rounds')\n",
    "plt.grid(axis='y', linestyle='--', alpha=0.7)\n",
    "plt.xticks(funding_round_counts.index)\n",
    "for bar, count in zip(bars, funding_round_counts):\n",
    "    plt.text(bar.get_x() + bar.get_width() / 2, bar.get_height() + 10, count, ha='center')\n",
    "plt.show()"
   ]
  },
  {
   "cell_type": "code",
   "execution_count": 41,
   "id": "94a72a78-4e79-4418-af0d-e34dbbeaf09a",
   "metadata": {},
   "outputs": [],
   "source": [
    "df_cleaned = filtered_df.dropna(subset= ['funding_total_usd'])"
   ]
  },
  {
   "cell_type": "code",
   "execution_count": 42,
   "id": "8c5984c0-2a9b-4b02-a19f-ed5306c37cf6",
   "metadata": {},
   "outputs": [
    {
     "data": {
      "text/plain": [
       "funding_rounds\n",
       "1     795\n",
       "2     205\n",
       "3      88\n",
       "4      27\n",
       "5       9\n",
       "6       5\n",
       "7       2\n",
       "12      1\n",
       "11      1\n",
       "8       1\n",
       "Name: count, dtype: int64"
      ]
     },
     "execution_count": 42,
     "metadata": {},
     "output_type": "execute_result"
    }
   ],
   "source": [
    "df_cleaned['funding_rounds'].value_counts()"
   ]
  },
  {
   "cell_type": "code",
   "execution_count": 44,
   "id": "942e35fa-5ae1-4043-848b-03f7b1dece5b",
   "metadata": {
    "scrolled": true
   },
   "outputs": [],
   "source": [
    "filtered_df_1 = df_cleaned"
   ]
  },
  {
   "cell_type": "code",
   "execution_count": 131,
   "id": "a9d3c0e4-9ad0-4034-85d5-518f92dfd147",
   "metadata": {},
   "outputs": [
    {
     "data": {
      "text/plain": [
       "count            $1,134.00\n",
       "mean        $23,391,192.89\n",
       "std        $153,640,841.53\n",
       "min                $569.00\n",
       "25%            $200,000.00\n",
       "50%          $1,275,000.00\n",
       "75%         $10,000,000.00\n",
       "max      $3,151,140,000.00\n",
       "Name: funding_total_usd, dtype: object"
      ]
     },
     "execution_count": 131,
     "metadata": {},
     "output_type": "execute_result"
    }
   ],
   "source": [
    "filtered_df_1['funding_total_usd'].describe().map('${:,.2f}'.format)"
   ]
  },
  {
   "cell_type": "code",
   "execution_count": 139,
   "id": "c710e51e-68ed-4aa2-882c-4f58b693f5c4",
   "metadata": {},
   "outputs": [
    {
     "name": "stdout",
     "output_type": "stream",
     "text": [
      "Startup with Minimum Funding: 569.0\n",
      "              name  funding_rounds   city\n",
      "49091  RuralServer               1  Noida\n",
      "\n",
      "Startup with Maximum Funding: 3151140000.0\n",
      "           name  funding_rounds       city\n",
      "20874  Flipkart              12  Bangalore\n"
     ]
    }
   ],
   "source": [
    "min_value = filtered_df_1['funding_total_usd'].min()\n",
    "max_value = filtered_df_1['funding_total_usd'].max()\n",
    "mi = filtered_df_1[filtered_df_1['funding_total_usd'] == min_value]\n",
    "mx = filtered_df_1[filtered_df_1['funding_total_usd'] == max_value]\n",
    "\n",
    "\n",
    "\n",
    "# Display specific columns for the startup with minimum funding\n",
    "min_funding_info = mi[['name', 'funding_rounds', 'city']]\n",
    "print(\"Startup with Minimum Funding:\", min_value)\n",
    "print(min_funding_info)\n",
    "\n",
    "# Display specific columns for the startup with maximum funding\n",
    "max_funding_info = mx[['name', 'funding_rounds', 'city']]\n",
    "print(\"\\nStartup with Maximum Funding:\", max_value)\n",
    "print(max_funding_info)\n"
   ]
  },
  {
   "cell_type": "markdown",
   "id": "c1282d9f-0797-4932-8c24-20840552b21e",
   "metadata": {},
   "source": [
    "#### Step 3: Selecting the Appropriate Statistical Test"
   ]
  },
  {
   "cell_type": "markdown",
   "id": "f2aa892c-d373-4f16-8f9d-8cf10db85ea8",
   "metadata": {},
   "source": [
    "### Mean Funds Raised\n",
    "\n",
    "Null Hypothesis (H0): There is no statistically significant difference in the mean funds raised by currently operating startups and startups that have closed.\n",
    "\n",
    "Alternative Hypothesis (H1): There is a statistically significant difference in the mean funds raised by currently operating startups and startups that have closed.\n",
    "\n",
    "Using an independent sample t-test in this context is justified for the following reasons:\n",
    "1. Comparing Two Independent Groups: The independent sample t-test is suitable when we are comparing two separate and independent groups, which aligns perfectly with our scenario of comparing currently operating startups with startups that have closed. These two groups are distinct and unrelated in terms of their current status.\n",
    "\n",
    "2. Continuous Numeric Data: The t-test is designed for comparing means of continuous numerical data, which is precisely what we have in our hypothesis testing. We are interested in comparing the mean funds raised, a continuous variable, between the two groups.\n",
    "\n",
    "3. Normal Distribution Assumption: The t-test assumes that the data within each group follows a normal distribution. While this assumption should be checked, it often holds reasonably well for financial data, especially when the sample size is sufficiently large ~ we know basis EDA that both have >30 sample size\n",
    "\n",
    "4. Homogeneity of Variance: We must check that using Levene Test."
   ]
  },
  {
   "cell_type": "markdown",
   "id": "1b562134-e153-4be6-a13c-31589ccad36f",
   "metadata": {},
   "source": [
    "The Levene's Test is a statistical test used to assess whether the variances of two or more groups are equal or homogenous.\n",
    "\n",
    "**Null Hypothesis (H0):** The null hypothesis in Levene's Test is that there are no significant differences in the variances of the groups being compared. In other words, it assumes that the variances are equal across all groups.\n",
    "\n",
    "**Alternative Hypothesis (H1):** The alternative hypothesis in Levene's Test is that there are significant differences in the variances of the groups being compared. If the p-value is sufficiently small, you would reject the null hypothesis in favor of the alternative, indicating that at least one group has a significantly different variance compared to the others."
   ]
  },
  {
   "cell_type": "code",
   "execution_count": 45,
   "id": "9096777f-c15c-4571-93aa-88b44800ed6a",
   "metadata": {},
   "outputs": [
    {
     "name": "stdout",
     "output_type": "stream",
     "text": [
      "Levene's Test Statistic: 0.36074537025282777\n",
      "P-value: 0.5482127964683872\n",
      "Fail to reject the null hypothese: Vairances are equal.\n"
     ]
    }
   ],
   "source": [
    "from scipy import stats\n",
    "\n",
    "gr_1 = filtered_df_1[filtered_df_1['status']== 'operating']['funding_total_usd']\n",
    "gr_2 = filtered_df_1[filtered_df_1['status']== 'closed']['funding_total_usd']\n",
    "\n",
    "stat, p_value = stats.levene(gr_1, gr_2)\n",
    "print(f\"Levene's Test Statistic: {stat}\")\n",
    "print(f\"P-value: {p_value}\")\n",
    "\n",
    "if p_value < 0.05:\n",
    "    print(\"Reject the null hypothesis: Variance are not equal.\")\n",
    "else:\n",
    "    print(\"Fail to reject the null hypothese: Vairances are equal.\")\n"
   ]
  },
  {
   "cell_type": "code",
   "execution_count": 47,
   "id": "565e0c9e-d7b0-44c6-9505-6a0b716d11ed",
   "metadata": {},
   "outputs": [
    {
     "data": {
      "image/png": "[encoded data removed]",
      "text/plain": [
       "<Figure size 1200x600 with 1 Axes>"
      ]
     },
     "metadata": {},
     "output_type": "display_data"
    }
   ],
   "source": [
    "funding_round_counts = filtered_df_1['funding_rounds'].value_counts().sort_index()\n",
    "\n",
    "plt.figure(figsize=(12, 6))\n",
    "bars= plt.bar(funding_round_counts.index, funding_round_counts.values, color='skyblue', edgecolor='black')\n",
    "plt.xlabel('Number of Funding Rounds')\n",
    "plt.ylabel('Count')\n",
    "plt.title('Distribution of Number of Funding Rounds')\n",
    "plt.grid(axis='y', linestyle='--', alpha=0.7)\n",
    "plt.xticks(funding_round_counts.index)\n",
    "for bar, count in zip(bars, funding_round_counts):\n",
    "    plt.text(bar.get_x() + bar.get_width() / 2, bar.get_height() + 10, count, ha='center')\n",
    "plt.show()"
   ]
  },
  {
   "cell_type": "code",
   "execution_count": 49,
   "id": "c787f47d-7e6f-4530-95c2-e2dc134f3668",
   "metadata": {},
   "outputs": [
    {
     "data": {
      "text/plain": [
       "1085"
      ]
     },
     "execution_count": 49,
     "metadata": {},
     "output_type": "execute_result"
    }
   ],
   "source": [
    "filtered_df_1[filtered_df_1['status']=='operating']['funding_total_usd'].count()"
   ]
  },
  {
   "cell_type": "code",
   "execution_count": 50,
   "id": "88189db1-4024-4d19-82d9-8e379796f505",
   "metadata": {},
   "outputs": [
    {
     "data": {
      "text/plain": [
       "49"
      ]
     },
     "execution_count": 50,
     "metadata": {},
     "output_type": "execute_result"
    }
   ],
   "source": [
    "filtered_df_1[filtered_df_1['status']=='closed']['funding_total_usd'].count()"
   ]
  },
  {
   "cell_type": "code",
   "execution_count": 70,
   "id": "aa83cc27-eb4b-4933-884a-9370d5954889",
   "metadata": {},
   "outputs": [],
   "source": [
    "df1 = filtered_df_1.loc[startup_df['status'] == 'operating', ['funding_total_usd']].rename(columns={'funding_total_usd':'Funds_Sample1'}).reset_index(drop=True)"
   ]
  },
  {
   "cell_type": "code",
   "execution_count": 71,
   "id": "07222c1e-7d65-4f41-912c-b47cd339ef01",
   "metadata": {},
   "outputs": [
    {
     "data": {
      "text/html": [
       "<div>\n",
       "<style scoped>\n",
       "    .dataframe tbody tr th:only-of-type {\n",
       "        vertical-align: middle;\n",
       "    }\n",
       "\n",
       "    .dataframe tbody tr th {\n",
       "        vertical-align: top;\n",
       "    }\n",
       "\n",
       "    .dataframe thead th {\n",
       "        text-align: right;\n",
       "    }\n",
       "</style>\n",
       "<table border=\"1\" class=\"dataframe\">\n",
       "  <thead>\n",
       "    <tr style=\"text-align: right;\">\n",
       "      <th></th>\n",
       "      <th>Funds_Sample1</th>\n",
       "    </tr>\n",
       "  </thead>\n",
       "  <tbody>\n",
       "    <tr>\n",
       "      <th>0</th>\n",
       "      <td>10000000.0</td>\n",
       "    </tr>\n",
       "    <tr>\n",
       "      <th>1</th>\n",
       "      <td>6369507.0</td>\n",
       "    </tr>\n",
       "    <tr>\n",
       "      <th>2</th>\n",
       "      <td>4000000.0</td>\n",
       "    </tr>\n",
       "    <tr>\n",
       "      <th>3</th>\n",
       "      <td>20000.0</td>\n",
       "    </tr>\n",
       "    <tr>\n",
       "      <th>4</th>\n",
       "      <td>2065000.0</td>\n",
       "    </tr>\n",
       "  </tbody>\n",
       "</table>\n",
       "</div>"
      ],
      "text/plain": [
       "   Funds_Sample1\n",
       "0     10000000.0\n",
       "1      6369507.0\n",
       "2      4000000.0\n",
       "3        20000.0\n",
       "4      2065000.0"
      ]
     },
     "execution_count": 71,
     "metadata": {},
     "output_type": "execute_result"
    }
   ],
   "source": [
    "df1.head()"
   ]
  },
  {
   "cell_type": "code",
   "execution_count": 61,
   "id": "294bee80-b750-41bb-baa1-55a6b4359747",
   "metadata": {},
   "outputs": [],
   "source": [
    "df2 = filtered_df_1.loc[startup_df['status'] == 'closed', ['funding_total_usd']].rename(columns={'funding_total_usd':'Funds_Sample2'}).reset_index(drop=True)"
   ]
  },
  {
   "cell_type": "code",
   "execution_count": 68,
   "id": "74535af2-9c8f-4152-b754-c8f0c5c5aa3c",
   "metadata": {},
   "outputs": [
    {
     "data": {
      "text/html": [
       "<div>\n",
       "<style scoped>\n",
       "    .dataframe tbody tr th:only-of-type {\n",
       "        vertical-align: middle;\n",
       "    }\n",
       "\n",
       "    .dataframe tbody tr th {\n",
       "        vertical-align: top;\n",
       "    }\n",
       "\n",
       "    .dataframe thead th {\n",
       "        text-align: right;\n",
       "    }\n",
       "</style>\n",
       "<table border=\"1\" class=\"dataframe\">\n",
       "  <thead>\n",
       "    <tr style=\"text-align: right;\">\n",
       "      <th></th>\n",
       "      <th>Funds_Sample2</th>\n",
       "    </tr>\n",
       "  </thead>\n",
       "  <tbody>\n",
       "    <tr>\n",
       "      <th>0</th>\n",
       "      <td>25000.0</td>\n",
       "    </tr>\n",
       "    <tr>\n",
       "      <th>1</th>\n",
       "      <td>10000.0</td>\n",
       "    </tr>\n",
       "    <tr>\n",
       "      <th>2</th>\n",
       "      <td>10000000.0</td>\n",
       "    </tr>\n",
       "    <tr>\n",
       "      <th>3</th>\n",
       "      <td>40000.0</td>\n",
       "    </tr>\n",
       "    <tr>\n",
       "      <th>4</th>\n",
       "      <td>25000000.0</td>\n",
       "    </tr>\n",
       "  </tbody>\n",
       "</table>\n",
       "</div>"
      ],
      "text/plain": [
       "   Funds_Sample2\n",
       "0        25000.0\n",
       "1        10000.0\n",
       "2     10000000.0\n",
       "3        40000.0\n",
       "4     25000000.0"
      ]
     },
     "execution_count": 68,
     "metadata": {},
     "output_type": "execute_result"
    }
   ],
   "source": [
    "df2.head()\n"
   ]
  },
  {
   "cell_type": "code",
   "execution_count": 75,
   "id": "6a97507d-4272-46ba-8a6c-20c86c5c5639",
   "metadata": {},
   "outputs": [
    {
     "data": {
      "text/html": [
       "<div>\n",
       "<style scoped>\n",
       "    .dataframe tbody tr th:only-of-type {\n",
       "        vertical-align: middle;\n",
       "    }\n",
       "\n",
       "    .dataframe tbody tr th {\n",
       "        vertical-align: top;\n",
       "    }\n",
       "\n",
       "    .dataframe thead th {\n",
       "        text-align: right;\n",
       "    }\n",
       "</style>\n",
       "<table border=\"1\" class=\"dataframe\">\n",
       "  <thead>\n",
       "    <tr style=\"text-align: right;\">\n",
       "      <th></th>\n",
       "      <th>Funds_Sample1</th>\n",
       "      <th>Funds_Sample2</th>\n",
       "    </tr>\n",
       "  </thead>\n",
       "  <tbody>\n",
       "    <tr>\n",
       "      <th>0</th>\n",
       "      <td>10000000.0</td>\n",
       "      <td>25000.0</td>\n",
       "    </tr>\n",
       "    <tr>\n",
       "      <th>1</th>\n",
       "      <td>6369507.0</td>\n",
       "      <td>10000.0</td>\n",
       "    </tr>\n",
       "    <tr>\n",
       "      <th>2</th>\n",
       "      <td>4000000.0</td>\n",
       "      <td>10000000.0</td>\n",
       "    </tr>\n",
       "    <tr>\n",
       "      <th>3</th>\n",
       "      <td>20000.0</td>\n",
       "      <td>40000.0</td>\n",
       "    </tr>\n",
       "    <tr>\n",
       "      <th>4</th>\n",
       "      <td>2065000.0</td>\n",
       "      <td>25000000.0</td>\n",
       "    </tr>\n",
       "  </tbody>\n",
       "</table>\n",
       "</div>"
      ],
      "text/plain": [
       "   Funds_Sample1  Funds_Sample2\n",
       "0     10000000.0        25000.0\n",
       "1      6369507.0        10000.0\n",
       "2      4000000.0     10000000.0\n",
       "3        20000.0        40000.0\n",
       "4      2065000.0     25000000.0"
      ]
     },
     "execution_count": 75,
     "metadata": {},
     "output_type": "execute_result"
    }
   ],
   "source": [
    "df3 = pd.concat([df1, df2], axis = 1)\n",
    "df3.head()"
   ]
  },
  {
   "cell_type": "code",
   "execution_count": 74,
   "id": "cc3a574d-6731-4411-911f-92d020608ff3",
   "metadata": {},
   "outputs": [
    {
     "data": {
      "image/png": "[encoded data removed]",
      "text/plain": [
       "<Figure size 800x600 with 1 Axes>"
      ]
     },
     "metadata": {},
     "output_type": "display_data"
    }
   ],
   "source": [
    "# Visualize 'Status' column\n",
    "\n",
    "status_counts = filtered_df_1['status'].value_counts()\n",
    "\n",
    "# Plotting\n",
    "plt.figure(figsize=(8, 6))\n",
    "plt.bar(status_counts.index, status_counts.values, color='skyblue')\n",
    "plt.xlabel('Startup Status')\n",
    "plt.ylabel('Count')\n",
    "plt.title('Distribution of Startup Status')\n",
    "\n",
    "# Adding data labels (count values) to the bars\n",
    "for i, v in enumerate(status_counts):\n",
    "    plt.text(i, v + 10, v, ha='center')\n",
    "    # i: This is the x-coordinate where the data label will be placed.\n",
    "    # v + 10: This is the y-coordinate where the data label will be placed\n",
    "    # ha='center': This parameter specifies the horizontal alignment of the text, ensuring that it's centered above each bar.\n",
    "\n",
    "# Display the plot\n",
    "plt.show()"
   ]
  },
  {
   "cell_type": "code",
   "execution_count": 76,
   "id": "480f4878-965e-4949-9283-674c87b99d6d",
   "metadata": {},
   "outputs": [
    {
     "name": "stdout",
     "output_type": "stream",
     "text": [
      "Mean funds (in million) for startup which are operating is: 23981373.343251728\n"
     ]
    }
   ],
   "source": [
    "mean_1=df3['Funds_Sample1'].mean()\n",
    "\n",
    "print('Mean funds (in million) for startup which are operating is:',mean_1)"
   ]
  },
  {
   "cell_type": "code",
   "execution_count": 77,
   "id": "f9f8cdca-f4f9-49f4-b6e5-e88bd2834555",
   "metadata": {},
   "outputs": [
    {
     "name": "stdout",
     "output_type": "stream",
     "text": [
      "Mean funds (in million) for startup which are closed is: 10322911.346938776\n"
     ]
    }
   ],
   "source": [
    "mean_2=df3['Funds_Sample2'].mean()\n",
    "\n",
    "print('Mean funds (in million) for startup which are closed is:',mean_2)"
   ]
  },
  {
   "cell_type": "markdown",
   "id": "1b8752da-6c7c-4b50-bb9a-4bc5b1841ebb",
   "metadata": {},
   "source": [
    "Null Hypothesis\n",
    "H0: There is *no*  significant difference between mean funds raised by the two groups of startups that are closed and operating\n",
    "\n",
    "i.e H0: mean_1 = mean_2\n",
    "\n",
    "Alternative hypothesis\n",
    "\n",
    "H1: There *is*  significant difference between mean funds raised by the two groups of startups that are closed and operating\n",
    "\n",
    "i.e H1: mean_1 != mean_2\n",
    "\n",
    "Our Alpha Value is = 0.05"
   ]
  },
  {
   "cell_type": "code",
   "execution_count": 79,
   "id": "ba72dac7-b037-45fd-ae1c-322e7f56dc49",
   "metadata": {},
   "outputs": [],
   "source": [
    "from scipy.stats import ttest_ind"
   ]
  },
  {
   "cell_type": "code",
   "execution_count": 80,
   "id": "5e4f07ec-8dfa-401f-947b-1ee8845ed6db",
   "metadata": {},
   "outputs": [
    {
     "name": "stdout",
     "output_type": "stream",
     "text": [
      "T-statistic 0.6085283061630911\n",
      "P-value: 0.5429592211146083\n"
     ]
    }
   ],
   "source": [
    "t, pvalue = ttest_ind(df3['Funds_Sample1'], df3['Funds_Sample2'], nan_policy = 'omit')\n",
    "print('T-statistic',t)\n",
    "print('P-value:', pvalue)"
   ]
  },
  {
   "cell_type": "markdown",
   "id": "3b1da7ee-5681-4ae7-b091-2af4deef9c17",
   "metadata": {},
   "source": [
    "#### The p-value, is greater than the chosen alpha level (i.e, 0.54 > 0.05), which makes us reject the null hypothesis with 95% confidence. Therefore, we can conclude that there is no significant difference between mean funds raised by currently operating and closed startups"
   ]
  },
  {
   "cell_type": "markdown",
   "id": "1fb75fe8-33f4-4d6e-9338-573ca67f41e3",
   "metadata": {},
   "source": [
    "## Number of Funding Rounds"
   ]
  },
  {
   "cell_type": "markdown",
   "id": "9d4dc9fc-76b8-43e7-b043-5571775eaa86",
   "metadata": {},
   "source": [
    "We use the Chi-Square Test of Independence \n",
    "\n",
    "In our case, as we are interested in the number of funding rounds (which is likely a discrete, count variable) and the status of startups (which is categorical - either \"currently operating\" or \"closed\"). \n",
    "\n",
    "The chi-square Test of Independence is suitable for our hypothesis as, \n",
    "\n",
    "We know that observations are independent, and Cells in the contingency table are mutually exclusive, The only thing we need to check is if ~ Expected value of cells should be 5 or greater in at least 80% of cells."
   ]
  },
  {
   "cell_type": "code",
   "execution_count": 102,
   "id": "444915e2-cfcb-41d1-bc8a-002168778db3",
   "metadata": {},
   "outputs": [
    {
     "name": "stderr",
     "output_type": "stream",
     "text": [
      "C:\\Users\\srija\\AppData\\Local\\Temp\\ipykernel_21608\\664548112.py:9: SettingWithCopyWarning: \n",
      "A value is trying to be set on a copy of a slice from a DataFrame.\n",
      "Try using .loc[row_indexer,col_indexer] = value instead\n",
      "\n",
      "See the caveats in the documentation: https://pandas.pydata.org/pandas-docs/stable/user_guide/indexing.html#returning-a-view-versus-a-copy\n",
      "  filtered_df_1['rounds of funding category'] = filtered_df_1['funding_rounds'].apply(categorize_rounds)\n"
     ]
    },
    {
     "data": {
      "image/png": "[encoded data removed]",
      "text/plain": [
       "<Figure size 1200x600 with 1 Axes>"
      ]
     },
     "metadata": {},
     "output_type": "display_data"
    }
   ],
   "source": [
    "def categorize_rounds(round):\n",
    "    if round == 1:\n",
    "        return '1'\n",
    "    elif round == 2:\n",
    "        return '2'\n",
    "    else:\n",
    "        return '3+'\n",
    "\n",
    "filtered_df_1['rounds of funding category'] = filtered_df_1['funding_rounds'].apply(categorize_rounds)\n",
    "rg1 = filtered_df_1['rounds of funding category'].value_counts()\n",
    "plt.figure(figsize=(12, 6))\n",
    "bars= plt.bar(rg1.index, rg1.values, color='skyblue', edgecolor='black')\n",
    "plt.xlabel('Number of Funding Rounds')\n",
    "plt.ylabel('Count')\n",
    "plt.title('Distribution of Number of Funding Rounds')\n",
    "plt.grid(axis='y', linestyle='--', alpha=0.7)\n",
    "plt.xticks(rg1.index)\n",
    "for bar, count in zip(bars, rg1):\n",
    "    plt.text(bar.get_x() + bar.get_width() / 2, bar.get_height() + 10, count, ha='center')\n",
    "plt.show()\n"
   ]
  },
  {
   "cell_type": "code",
   "execution_count": 103,
   "id": "2be47b70-3ee9-47a3-8381-c21e4e6d9531",
   "metadata": {},
   "outputs": [],
   "source": [
    "both = pd.crosstab(filtered_df_1['rounds of funding category'], filtered_df_1['status'])"
   ]
  },
  {
   "cell_type": "code",
   "execution_count": null,
   "id": "9ee7f8d7-e13a-4cc1-80f2-43dbade1fbda",
   "metadata": {},
   "outputs": [],
   "source": []
  },
  {
   "cell_type": "code",
   "execution_count": 125,
   "id": "5e329a89-699a-4c07-8ffe-e17515ae6f11",
   "metadata": {},
   "outputs": [
    {
     "name": "stdout",
     "output_type": "stream",
     "text": [
      "Expected Frequencies:\n",
      "status                         closed   operating\n",
      "rounds of funding category                       \n",
      "1                           34.351852  760.648148\n",
      "2                            8.858025  196.141975\n",
      "3+                           5.790123  128.209877\n"
     ]
    }
   ],
   "source": [
    "contingency_table = pd.crosstab(filtered_df_1['rounds of funding category'], filtered_df_1['status'])\n",
    "\n",
    "# Calculate expected frequencies\n",
    "expected_frequencies = stats.contingency.expected_freq(contingency_table)\n",
    "\n",
    "# Create a DataFrame to display the expected frequencies\n",
    "expected_df = pd.DataFrame(expected_frequencies, columns=contingency_table.columns, index=contingency_table.index)\n",
    "\n",
    "# Display the expected frequencies\n",
    "print(\"Expected Frequencies:\")\n",
    "print(expected_df)"
   ]
  },
  {
   "cell_type": "markdown",
   "id": "513bff74-0f0e-4077-98bb-72e7f2f9f7a4",
   "metadata": {},
   "source": [
    "As all the expected frequencies are above the threshold of 5, that means our dataset meets the requirement for expected frequency assumption in the chi square test for independence. So we can proceed with our hypothesis testing"
   ]
  },
  {
   "cell_type": "code",
   "execution_count": 124,
   "id": "1f023291-c627-4d7d-820f-5f0e770cc117",
   "metadata": {},
   "outputs": [
    {
     "data": {
      "image/png": "[encoded data removed]",
      "text/plain": [
       "<Figure size 1000x600 with 1 Axes>"
      ]
     },
     "metadata": {},
     "output_type": "display_data"
    }
   ],
   "source": [
    "ax = contingency_table.plot(kind='bar', figsize=(10, 6))\n",
    "\n",
    "plt.xlabel('Rounds of Funding Category')\n",
    "plt.ylabel('Count')\n",
    "plt.title('Distribution of Funding Rounds by Status')\n",
    "plt.xticks(rotation=0)  \n",
    "\n",
    "for p in ax.patches:\n",
    "    ax.annotate(f'{int(p.get_height())}', \n",
    "                (p.get_x() + p.get_width() / 2., p.get_height()), \n",
    "                ha='center', va='bottom')\n",
    "\n",
    "plt.tight_layout()  \n",
    "plt.show()"
   ]
  },
  {
   "cell_type": "code",
   "execution_count": 94,
   "id": "36ef6a33-1d0e-480c-834c-d0f8c550543b",
   "metadata": {},
   "outputs": [
    {
     "name": "stdout",
     "output_type": "stream",
     "text": [
      "The p-value is 0.2908506204110049\n"
     ]
    }
   ],
   "source": [
    "from scipy.stats import chi2_contingency\n",
    "\n",
    "# Run the Chi Square Test\n",
    "\n",
    "chi2, pval, dof, exp_freq = chi2_contingency(contingency_table, correction = False)\n",
    "print('The p-value is',pval)"
   ]
  },
  {
   "cell_type": "markdown",
   "id": "0f044b23-e0a9-4d45-bc9c-a50a2f5774ec",
   "metadata": {},
   "source": [
    "As the P-value is of 0.29>  0.05 as a result we fail to reject the null hypothesis. This suggests that there is no statistically significant difference in the number of funding rounds between currently operating startups and startups that have closed their operations based on our chosen level of significance "
   ]
  },
  {
   "cell_type": "markdown",
   "id": "eb67ed81-b777-48e4-a6d9-5db1fe46c13f",
   "metadata": {},
   "source": [
    "## So we can conclude by saying, \n",
    "### there is no statistically significant difference in the funds raised by currently operating startups and startups that have closed, as per the independent sample t-test. \n",
    "### There is no statistically significant association between the number of funding rounds and the status of startups, as indicated by the Chi-Square Test of Independence."
   ]
  },
  {
   "cell_type": "code",
   "execution_count": null,
   "id": "cef61082-e94b-4688-ab14-aa77e3039b20",
   "metadata": {},
   "outputs": [],
   "source": []
  }
 ],
 "metadata": {
  "kernelspec": {
   "display_name": "Python 3 (ipykernel)",
   "language": "python",
   "name": "python3"
  },
  "language_info": {
   "codemirror_mode": {
    "name": "ipython",
    "version": 3
   },
   "file_extension": ".py",
   "mimetype": "text/x-python",
   "name": "python",
   "nbconvert_exporter": "python",
   "pygments_lexer": "ipython3",
   "version": "3.11.7"
  }
 },
 "nbformat": 4,
 "nbformat_minor": 5
}
